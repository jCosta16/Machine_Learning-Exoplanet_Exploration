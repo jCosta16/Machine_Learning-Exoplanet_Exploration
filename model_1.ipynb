{
 "cells": [
  {
   "cell_type": "code",
   "execution_count": 1,
   "metadata": {},
   "outputs": [
    {
     "name": "stdout",
     "output_type": "stream",
     "text": [
      "Requirement already up-to-date: sklearn in c:\\users\\joaog\\anaconda3\\lib\\site-packages (0.0)\n",
      "Requirement already satisfied, skipping upgrade: scikit-learn in c:\\users\\joaog\\anaconda3\\lib\\site-packages (from sklearn) (0.21.3)\n",
      "Requirement already satisfied, skipping upgrade: scipy>=0.17.0 in c:\\users\\joaog\\anaconda3\\lib\\site-packages (from scikit-learn->sklearn) (1.4.1)\n",
      "Requirement already satisfied, skipping upgrade: numpy>=1.11.0 in c:\\users\\joaog\\anaconda3\\lib\\site-packages (from scikit-learn->sklearn) (1.16.5)\n",
      "Requirement already satisfied, skipping upgrade: joblib>=0.11 in c:\\users\\joaog\\anaconda3\\lib\\site-packages (from scikit-learn->sklearn) (0.13.2)\n"
     ]
    }
   ],
   "source": [
    "# Update sklearn to prevent version mismatches\n",
    "!pip install sklearn --upgrade"
   ]
  },
  {
   "cell_type": "code",
   "execution_count": 2,
   "metadata": {},
   "outputs": [
    {
     "name": "stdout",
     "output_type": "stream",
     "text": [
      "Requirement already satisfied: joblib in c:\\users\\joaog\\anaconda3\\lib\\site-packages (0.13.2)\n"
     ]
    }
   ],
   "source": [
    "# install joblib. This will be used to save your model. \n",
    "# Restart your kernel after installing \n",
    "!pip install joblib"
   ]
  },
  {
   "cell_type": "code",
   "execution_count": 3,
   "metadata": {},
   "outputs": [],
   "source": [
    "import pandas as pd\n",
    "import matplotlib.pyplot as plt\n"
   ]
  },
  {
   "cell_type": "markdown",
   "metadata": {},
   "source": [
    "# Read the CSV and Perform Basic Data Cleaning"
   ]
  },
  {
   "cell_type": "code",
   "execution_count": 4,
   "metadata": {},
   "outputs": [
    {
     "data": {
      "text/html": [
       "<div>\n",
       "<style scoped>\n",
       "    .dataframe tbody tr th:only-of-type {\n",
       "        vertical-align: middle;\n",
       "    }\n",
       "\n",
       "    .dataframe tbody tr th {\n",
       "        vertical-align: top;\n",
       "    }\n",
       "\n",
       "    .dataframe thead th {\n",
       "        text-align: right;\n",
       "    }\n",
       "</style>\n",
       "<table border=\"1\" class=\"dataframe\">\n",
       "  <thead>\n",
       "    <tr style=\"text-align: right;\">\n",
       "      <th></th>\n",
       "      <th>koi_disposition</th>\n",
       "      <th>koi_fpflag_nt</th>\n",
       "      <th>koi_fpflag_ss</th>\n",
       "      <th>koi_fpflag_co</th>\n",
       "      <th>koi_fpflag_ec</th>\n",
       "      <th>koi_period</th>\n",
       "      <th>koi_period_err1</th>\n",
       "      <th>koi_period_err2</th>\n",
       "      <th>koi_time0bk</th>\n",
       "      <th>koi_time0bk_err1</th>\n",
       "      <th>...</th>\n",
       "      <th>koi_steff_err2</th>\n",
       "      <th>koi_slogg</th>\n",
       "      <th>koi_slogg_err1</th>\n",
       "      <th>koi_slogg_err2</th>\n",
       "      <th>koi_srad</th>\n",
       "      <th>koi_srad_err1</th>\n",
       "      <th>koi_srad_err2</th>\n",
       "      <th>ra</th>\n",
       "      <th>dec</th>\n",
       "      <th>koi_kepmag</th>\n",
       "    </tr>\n",
       "  </thead>\n",
       "  <tbody>\n",
       "    <tr>\n",
       "      <td>0</td>\n",
       "      <td>CONFIRMED</td>\n",
       "      <td>0</td>\n",
       "      <td>0</td>\n",
       "      <td>0</td>\n",
       "      <td>0</td>\n",
       "      <td>54.418383</td>\n",
       "      <td>2.479000e-04</td>\n",
       "      <td>-2.479000e-04</td>\n",
       "      <td>162.513840</td>\n",
       "      <td>0.003520</td>\n",
       "      <td>...</td>\n",
       "      <td>-81</td>\n",
       "      <td>4.467</td>\n",
       "      <td>0.064</td>\n",
       "      <td>-0.096</td>\n",
       "      <td>0.927</td>\n",
       "      <td>0.105</td>\n",
       "      <td>-0.061</td>\n",
       "      <td>291.93423</td>\n",
       "      <td>48.141651</td>\n",
       "      <td>15.347</td>\n",
       "    </tr>\n",
       "    <tr>\n",
       "      <td>1</td>\n",
       "      <td>FALSE POSITIVE</td>\n",
       "      <td>0</td>\n",
       "      <td>1</td>\n",
       "      <td>0</td>\n",
       "      <td>0</td>\n",
       "      <td>19.899140</td>\n",
       "      <td>1.490000e-05</td>\n",
       "      <td>-1.490000e-05</td>\n",
       "      <td>175.850252</td>\n",
       "      <td>0.000581</td>\n",
       "      <td>...</td>\n",
       "      <td>-176</td>\n",
       "      <td>4.544</td>\n",
       "      <td>0.044</td>\n",
       "      <td>-0.176</td>\n",
       "      <td>0.868</td>\n",
       "      <td>0.233</td>\n",
       "      <td>-0.078</td>\n",
       "      <td>297.00482</td>\n",
       "      <td>48.134129</td>\n",
       "      <td>15.436</td>\n",
       "    </tr>\n",
       "    <tr>\n",
       "      <td>2</td>\n",
       "      <td>FALSE POSITIVE</td>\n",
       "      <td>0</td>\n",
       "      <td>1</td>\n",
       "      <td>0</td>\n",
       "      <td>0</td>\n",
       "      <td>1.736952</td>\n",
       "      <td>2.630000e-07</td>\n",
       "      <td>-2.630000e-07</td>\n",
       "      <td>170.307565</td>\n",
       "      <td>0.000115</td>\n",
       "      <td>...</td>\n",
       "      <td>-174</td>\n",
       "      <td>4.564</td>\n",
       "      <td>0.053</td>\n",
       "      <td>-0.168</td>\n",
       "      <td>0.791</td>\n",
       "      <td>0.201</td>\n",
       "      <td>-0.067</td>\n",
       "      <td>285.53461</td>\n",
       "      <td>48.285210</td>\n",
       "      <td>15.597</td>\n",
       "    </tr>\n",
       "    <tr>\n",
       "      <td>3</td>\n",
       "      <td>CONFIRMED</td>\n",
       "      <td>0</td>\n",
       "      <td>0</td>\n",
       "      <td>0</td>\n",
       "      <td>0</td>\n",
       "      <td>2.525592</td>\n",
       "      <td>3.760000e-06</td>\n",
       "      <td>-3.760000e-06</td>\n",
       "      <td>171.595550</td>\n",
       "      <td>0.001130</td>\n",
       "      <td>...</td>\n",
       "      <td>-211</td>\n",
       "      <td>4.438</td>\n",
       "      <td>0.070</td>\n",
       "      <td>-0.210</td>\n",
       "      <td>1.046</td>\n",
       "      <td>0.334</td>\n",
       "      <td>-0.133</td>\n",
       "      <td>288.75488</td>\n",
       "      <td>48.226200</td>\n",
       "      <td>15.509</td>\n",
       "    </tr>\n",
       "    <tr>\n",
       "      <td>4</td>\n",
       "      <td>CONFIRMED</td>\n",
       "      <td>0</td>\n",
       "      <td>0</td>\n",
       "      <td>0</td>\n",
       "      <td>0</td>\n",
       "      <td>4.134435</td>\n",
       "      <td>1.050000e-05</td>\n",
       "      <td>-1.050000e-05</td>\n",
       "      <td>172.979370</td>\n",
       "      <td>0.001900</td>\n",
       "      <td>...</td>\n",
       "      <td>-232</td>\n",
       "      <td>4.486</td>\n",
       "      <td>0.054</td>\n",
       "      <td>-0.229</td>\n",
       "      <td>0.972</td>\n",
       "      <td>0.315</td>\n",
       "      <td>-0.105</td>\n",
       "      <td>296.28613</td>\n",
       "      <td>48.224670</td>\n",
       "      <td>15.714</td>\n",
       "    </tr>\n",
       "  </tbody>\n",
       "</table>\n",
       "<p>5 rows × 41 columns</p>\n",
       "</div>"
      ],
      "text/plain": [
       "  koi_disposition  koi_fpflag_nt  koi_fpflag_ss  koi_fpflag_co  koi_fpflag_ec  \\\n",
       "0       CONFIRMED              0              0              0              0   \n",
       "1  FALSE POSITIVE              0              1              0              0   \n",
       "2  FALSE POSITIVE              0              1              0              0   \n",
       "3       CONFIRMED              0              0              0              0   \n",
       "4       CONFIRMED              0              0              0              0   \n",
       "\n",
       "   koi_period  koi_period_err1  koi_period_err2  koi_time0bk  \\\n",
       "0   54.418383     2.479000e-04    -2.479000e-04   162.513840   \n",
       "1   19.899140     1.490000e-05    -1.490000e-05   175.850252   \n",
       "2    1.736952     2.630000e-07    -2.630000e-07   170.307565   \n",
       "3    2.525592     3.760000e-06    -3.760000e-06   171.595550   \n",
       "4    4.134435     1.050000e-05    -1.050000e-05   172.979370   \n",
       "\n",
       "   koi_time0bk_err1  ...  koi_steff_err2  koi_slogg  koi_slogg_err1  \\\n",
       "0          0.003520  ...             -81      4.467           0.064   \n",
       "1          0.000581  ...            -176      4.544           0.044   \n",
       "2          0.000115  ...            -174      4.564           0.053   \n",
       "3          0.001130  ...            -211      4.438           0.070   \n",
       "4          0.001900  ...            -232      4.486           0.054   \n",
       "\n",
       "   koi_slogg_err2  koi_srad  koi_srad_err1  koi_srad_err2         ra  \\\n",
       "0          -0.096     0.927          0.105         -0.061  291.93423   \n",
       "1          -0.176     0.868          0.233         -0.078  297.00482   \n",
       "2          -0.168     0.791          0.201         -0.067  285.53461   \n",
       "3          -0.210     1.046          0.334         -0.133  288.75488   \n",
       "4          -0.229     0.972          0.315         -0.105  296.28613   \n",
       "\n",
       "         dec  koi_kepmag  \n",
       "0  48.141651      15.347  \n",
       "1  48.134129      15.436  \n",
       "2  48.285210      15.597  \n",
       "3  48.226200      15.509  \n",
       "4  48.224670      15.714  \n",
       "\n",
       "[5 rows x 41 columns]"
      ]
     },
     "execution_count": 4,
     "metadata": {},
     "output_type": "execute_result"
    }
   ],
   "source": [
    "df = pd.read_csv(\"exoplanet_data.csv\")\n",
    "# Drop the null columns where all values are null\n",
    "df = df.dropna(axis='columns', how='all')\n",
    "# Drop the null rows\n",
    "df = df.dropna()\n",
    "df.head()"
   ]
  },
  {
   "cell_type": "markdown",
   "metadata": {},
   "source": [
    "# Select your features (columns)"
   ]
  },
  {
   "cell_type": "code",
   "execution_count": 5,
   "metadata": {},
   "outputs": [
    {
     "data": {
      "text/plain": [
       "Index(['koi_disposition', 'koi_fpflag_nt', 'koi_fpflag_ss', 'koi_fpflag_co',\n",
       "       'koi_fpflag_ec', 'koi_period', 'koi_period_err1', 'koi_period_err2',\n",
       "       'koi_time0bk', 'koi_time0bk_err1', 'koi_time0bk_err2', 'koi_impact',\n",
       "       'koi_impact_err1', 'koi_impact_err2', 'koi_duration',\n",
       "       'koi_duration_err1', 'koi_duration_err2', 'koi_depth', 'koi_depth_err1',\n",
       "       'koi_depth_err2', 'koi_prad', 'koi_prad_err1', 'koi_prad_err2',\n",
       "       'koi_teq', 'koi_insol', 'koi_insol_err1', 'koi_insol_err2',\n",
       "       'koi_model_snr', 'koi_tce_plnt_num', 'koi_steff', 'koi_steff_err1',\n",
       "       'koi_steff_err2', 'koi_slogg', 'koi_slogg_err1', 'koi_slogg_err2',\n",
       "       'koi_srad', 'koi_srad_err1', 'koi_srad_err2', 'ra', 'dec',\n",
       "       'koi_kepmag'],\n",
       "      dtype='object')"
      ]
     },
     "execution_count": 5,
     "metadata": {},
     "output_type": "execute_result"
    }
   ],
   "source": [
    "df.columns"
   ]
  },
  {
   "cell_type": "code",
   "execution_count": 6,
   "metadata": {},
   "outputs": [
    {
     "data": {
      "text/html": [
       "<div>\n",
       "<style scoped>\n",
       "    .dataframe tbody tr th:only-of-type {\n",
       "        vertical-align: middle;\n",
       "    }\n",
       "\n",
       "    .dataframe tbody tr th {\n",
       "        vertical-align: top;\n",
       "    }\n",
       "\n",
       "    .dataframe thead th {\n",
       "        text-align: right;\n",
       "    }\n",
       "</style>\n",
       "<table border=\"1\" class=\"dataframe\">\n",
       "  <thead>\n",
       "    <tr style=\"text-align: right;\">\n",
       "      <th></th>\n",
       "      <th>koi_disposition</th>\n",
       "      <th>koi_fpflag_nt</th>\n",
       "      <th>koi_fpflag_ss</th>\n",
       "      <th>koi_fpflag_co</th>\n",
       "      <th>koi_fpflag_ec</th>\n",
       "      <th>koi_period</th>\n",
       "      <th>koi_period_err1</th>\n",
       "      <th>koi_time0bk</th>\n",
       "      <th>koi_time0bk_err1</th>\n",
       "      <th>koi_impact</th>\n",
       "      <th>...</th>\n",
       "      <th>koi_tce_plnt_num</th>\n",
       "      <th>koi_steff</th>\n",
       "      <th>koi_steff_err1</th>\n",
       "      <th>koi_slogg</th>\n",
       "      <th>koi_slogg_err1</th>\n",
       "      <th>koi_srad</th>\n",
       "      <th>koi_srad_err1</th>\n",
       "      <th>ra</th>\n",
       "      <th>dec</th>\n",
       "      <th>koi_kepmag</th>\n",
       "    </tr>\n",
       "  </thead>\n",
       "  <tbody>\n",
       "    <tr>\n",
       "      <td>0</td>\n",
       "      <td>CONFIRMED</td>\n",
       "      <td>0</td>\n",
       "      <td>0</td>\n",
       "      <td>0</td>\n",
       "      <td>0</td>\n",
       "      <td>54.418383</td>\n",
       "      <td>2.479000e-04</td>\n",
       "      <td>162.513840</td>\n",
       "      <td>0.003520</td>\n",
       "      <td>0.586</td>\n",
       "      <td>...</td>\n",
       "      <td>2</td>\n",
       "      <td>5455</td>\n",
       "      <td>81</td>\n",
       "      <td>4.467</td>\n",
       "      <td>0.064</td>\n",
       "      <td>0.927</td>\n",
       "      <td>0.105</td>\n",
       "      <td>291.93423</td>\n",
       "      <td>48.141651</td>\n",
       "      <td>15.347</td>\n",
       "    </tr>\n",
       "    <tr>\n",
       "      <td>1</td>\n",
       "      <td>FALSE POSITIVE</td>\n",
       "      <td>0</td>\n",
       "      <td>1</td>\n",
       "      <td>0</td>\n",
       "      <td>0</td>\n",
       "      <td>19.899140</td>\n",
       "      <td>1.490000e-05</td>\n",
       "      <td>175.850252</td>\n",
       "      <td>0.000581</td>\n",
       "      <td>0.969</td>\n",
       "      <td>...</td>\n",
       "      <td>1</td>\n",
       "      <td>5853</td>\n",
       "      <td>158</td>\n",
       "      <td>4.544</td>\n",
       "      <td>0.044</td>\n",
       "      <td>0.868</td>\n",
       "      <td>0.233</td>\n",
       "      <td>297.00482</td>\n",
       "      <td>48.134129</td>\n",
       "      <td>15.436</td>\n",
       "    </tr>\n",
       "    <tr>\n",
       "      <td>2</td>\n",
       "      <td>FALSE POSITIVE</td>\n",
       "      <td>0</td>\n",
       "      <td>1</td>\n",
       "      <td>0</td>\n",
       "      <td>0</td>\n",
       "      <td>1.736952</td>\n",
       "      <td>2.630000e-07</td>\n",
       "      <td>170.307565</td>\n",
       "      <td>0.000115</td>\n",
       "      <td>1.276</td>\n",
       "      <td>...</td>\n",
       "      <td>1</td>\n",
       "      <td>5805</td>\n",
       "      <td>157</td>\n",
       "      <td>4.564</td>\n",
       "      <td>0.053</td>\n",
       "      <td>0.791</td>\n",
       "      <td>0.201</td>\n",
       "      <td>285.53461</td>\n",
       "      <td>48.285210</td>\n",
       "      <td>15.597</td>\n",
       "    </tr>\n",
       "    <tr>\n",
       "      <td>3</td>\n",
       "      <td>CONFIRMED</td>\n",
       "      <td>0</td>\n",
       "      <td>0</td>\n",
       "      <td>0</td>\n",
       "      <td>0</td>\n",
       "      <td>2.525592</td>\n",
       "      <td>3.760000e-06</td>\n",
       "      <td>171.595550</td>\n",
       "      <td>0.001130</td>\n",
       "      <td>0.701</td>\n",
       "      <td>...</td>\n",
       "      <td>1</td>\n",
       "      <td>6031</td>\n",
       "      <td>169</td>\n",
       "      <td>4.438</td>\n",
       "      <td>0.070</td>\n",
       "      <td>1.046</td>\n",
       "      <td>0.334</td>\n",
       "      <td>288.75488</td>\n",
       "      <td>48.226200</td>\n",
       "      <td>15.509</td>\n",
       "    </tr>\n",
       "    <tr>\n",
       "      <td>4</td>\n",
       "      <td>CONFIRMED</td>\n",
       "      <td>0</td>\n",
       "      <td>0</td>\n",
       "      <td>0</td>\n",
       "      <td>0</td>\n",
       "      <td>4.134435</td>\n",
       "      <td>1.050000e-05</td>\n",
       "      <td>172.979370</td>\n",
       "      <td>0.001900</td>\n",
       "      <td>0.762</td>\n",
       "      <td>...</td>\n",
       "      <td>2</td>\n",
       "      <td>6046</td>\n",
       "      <td>189</td>\n",
       "      <td>4.486</td>\n",
       "      <td>0.054</td>\n",
       "      <td>0.972</td>\n",
       "      <td>0.315</td>\n",
       "      <td>296.28613</td>\n",
       "      <td>48.224670</td>\n",
       "      <td>15.714</td>\n",
       "    </tr>\n",
       "  </tbody>\n",
       "</table>\n",
       "<p>5 rows × 31 columns</p>\n",
       "</div>"
      ],
      "text/plain": [
       "  koi_disposition  koi_fpflag_nt  koi_fpflag_ss  koi_fpflag_co  koi_fpflag_ec  \\\n",
       "0       CONFIRMED              0              0              0              0   \n",
       "1  FALSE POSITIVE              0              1              0              0   \n",
       "2  FALSE POSITIVE              0              1              0              0   \n",
       "3       CONFIRMED              0              0              0              0   \n",
       "4       CONFIRMED              0              0              0              0   \n",
       "\n",
       "   koi_period  koi_period_err1  koi_time0bk  koi_time0bk_err1  koi_impact  \\\n",
       "0   54.418383     2.479000e-04   162.513840          0.003520       0.586   \n",
       "1   19.899140     1.490000e-05   175.850252          0.000581       0.969   \n",
       "2    1.736952     2.630000e-07   170.307565          0.000115       1.276   \n",
       "3    2.525592     3.760000e-06   171.595550          0.001130       0.701   \n",
       "4    4.134435     1.050000e-05   172.979370          0.001900       0.762   \n",
       "\n",
       "   ...  koi_tce_plnt_num  koi_steff  koi_steff_err1  koi_slogg  \\\n",
       "0  ...                 2       5455              81      4.467   \n",
       "1  ...                 1       5853             158      4.544   \n",
       "2  ...                 1       5805             157      4.564   \n",
       "3  ...                 1       6031             169      4.438   \n",
       "4  ...                 2       6046             189      4.486   \n",
       "\n",
       "   koi_slogg_err1  koi_srad  koi_srad_err1         ra        dec  koi_kepmag  \n",
       "0           0.064     0.927          0.105  291.93423  48.141651      15.347  \n",
       "1           0.044     0.868          0.233  297.00482  48.134129      15.436  \n",
       "2           0.053     0.791          0.201  285.53461  48.285210      15.597  \n",
       "3           0.070     1.046          0.334  288.75488  48.226200      15.509  \n",
       "4           0.054     0.972          0.315  296.28613  48.224670      15.714  \n",
       "\n",
       "[5 rows x 31 columns]"
      ]
     },
     "execution_count": 6,
     "metadata": {},
     "output_type": "execute_result"
    }
   ],
   "source": [
    "# Set features. This will also be used as your x values.\n",
    "# removing the error2 columns\n",
    "\n",
    "selected_features = df[['koi_disposition', 'koi_fpflag_nt', 'koi_fpflag_ss', 'koi_fpflag_co','koi_fpflag_ec'\n",
    "                        ,'koi_period', 'koi_period_err1',  'koi_time0bk', 'koi_time0bk_err1'\n",
    "                        ,'koi_impact', 'koi_impact_err1',  'koi_duration', 'koi_duration_err1'\n",
    "                        ,'koi_depth', 'koi_depth_err1',    'koi_prad', 'koi_prad_err1'\n",
    "                        ,'koi_teq', 'koi_insol', 'koi_insol_err1'\n",
    "                        ,'koi_model_snr', 'koi_tce_plnt_num',   'koi_steff', 'koi_steff_err1'\n",
    "                        ,'koi_slogg', 'koi_slogg_err1',  'koi_srad', 'koi_srad_err1'\n",
    "                        ,'ra', 'dec','koi_kepmag']]\n",
    "\n",
    "selected_features.head()"
   ]
  },
  {
   "cell_type": "markdown",
   "metadata": {},
   "source": [
    "# Create a Train Test Split\n",
    "\n",
    "Use `koi_disposition` for the y values"
   ]
  },
  {
   "cell_type": "code",
   "execution_count": 7,
   "metadata": {},
   "outputs": [
    {
     "name": "stdout",
     "output_type": "stream",
     "text": [
      "(6991, 30) (6991, 1)\n"
     ]
    }
   ],
   "source": [
    "#using the selected_features\n",
    "X = selected_features.drop([\"koi_disposition\"], axis=1)\n",
    "y = selected_features[\"koi_disposition\"].values.reshape(-1, 1)\n",
    "print(X.shape, y.shape)"
   ]
  },
  {
   "cell_type": "code",
   "execution_count": 8,
   "metadata": {},
   "outputs": [
    {
     "name": "stderr",
     "output_type": "stream",
     "text": [
      "C:\\Users\\joaog\\Anaconda3\\lib\\site-packages\\sklearn\\preprocessing\\label.py:219: DataConversionWarning: A column-vector y was passed when a 1d array was expected. Please change the shape of y to (n_samples, ), for example using ravel().\n",
      "  y = column_or_1d(y, warn=True)\n",
      "C:\\Users\\joaog\\Anaconda3\\lib\\site-packages\\sklearn\\preprocessing\\label.py:252: DataConversionWarning: A column-vector y was passed when a 1d array was expected. Please change the shape of y to (n_samples, ), for example using ravel().\n",
      "  y = column_or_1d(y, warn=True)\n"
     ]
    },
    {
     "data": {
      "text/plain": [
       "array([1, 2, 2, ..., 0, 2, 2])"
      ]
     },
     "execution_count": 8,
     "metadata": {},
     "output_type": "execute_result"
    }
   ],
   "source": [
    "#Label-encode data set\n",
    "from sklearn.preprocessing import LabelEncoder\n",
    "label_encoder = LabelEncoder()\n",
    "label_encoder.fit(y)\n",
    "encoded_y = label_encoder.transform(y).reshape(-1,1).ravel()\n",
    "encoded_y"
   ]
  },
  {
   "cell_type": "code",
   "execution_count": 9,
   "metadata": {},
   "outputs": [],
   "source": [
    "from sklearn.model_selection import train_test_split\n",
    "\n",
    "X_train, X_test, y_train, y_test = train_test_split(\n",
    "    X, encoded_y,train_size=0.25,random_state=42)"
   ]
  },
  {
   "cell_type": "markdown",
   "metadata": {},
   "source": [
    "# Pre-processing\n",
    "\n",
    "Scale the data using the MinMaxScaler and perform some feature selection"
   ]
  },
  {
   "cell_type": "code",
   "execution_count": 10,
   "metadata": {},
   "outputs": [],
   "source": [
    "# Scale the data\n",
    "from sklearn.preprocessing import MinMaxScaler\n",
    "X_scaler = MinMaxScaler().fit(X_train)\n",
    "X_train_scaled = X_scaler.transform(X_train)\n",
    "X_test_scaled = X_scaler.transform(X_test)"
   ]
  },
  {
   "cell_type": "markdown",
   "metadata": {},
   "source": [
    "# SVC Model\n",
    "\n"
   ]
  },
  {
   "cell_type": "code",
   "execution_count": 11,
   "metadata": {},
   "outputs": [],
   "source": [
    "from sklearn.svm import SVC \n",
    "from sklearn.metrics import classification_report\n",
    "\n",
    "model_SVC = SVC(kernel='linear')\n",
    "model_SVC.fit(X_train_scaled, y_train)\n",
    "prediction_SVC = model_SVC.predict(X_test_scaled)"
   ]
  },
  {
   "cell_type": "code",
   "execution_count": 12,
   "metadata": {},
   "outputs": [
    {
     "name": "stdout",
     "output_type": "stream",
     "text": [
      "Training Data SVC Score: 0.8334287349742415\n",
      "Testing Data SVC Score: 0.8363844393592678\n",
      "\n",
      "                precision    recall  f1-score   support\n",
      "\n",
      "     CANDIDATE       0.67      0.66      0.66      1244\n",
      "     CONFIRMED       0.70      0.70      0.70      1396\n",
      "FALSE POSITIVE       0.98      1.00      0.99      2604\n",
      "\n",
      "      accuracy                           0.84      5244\n",
      "     macro avg       0.79      0.78      0.78      5244\n",
      "  weighted avg       0.83      0.84      0.84      5244\n",
      "\n"
     ]
    }
   ],
   "source": [
    "print(f\"Training Data SVC Score: {model_SVC.score(X_train_scaled, y_train)}\")\n",
    "print(f\"Testing Data SVC Score: {model_SVC.score(X_test_scaled, y_test)}\\n\")\n",
    "print(classification_report(y_test, prediction_SVC,\n",
    "                            target_names=['CANDIDATE', 'CONFIRMED', 'FALSE POSITIVE']))"
   ]
  },
  {
   "cell_type": "markdown",
   "metadata": {},
   "source": [
    "## Hyperparameter Tuning SVC Model\n",
    "\n",
    "Use `GridSearchCV` to tune the model's parameters"
   ]
  },
  {
   "cell_type": "code",
   "execution_count": 13,
   "metadata": {},
   "outputs": [],
   "source": [
    "from sklearn.model_selection import GridSearchCV\n",
    "param_grid_SVC = {'C': [1, 5, 10, 50, 100],\n",
    "              'gamma': [0.0001, 0.0005, 0.001, 0.005]}\n",
    "grid_SVC = GridSearchCV(model_SVC, param_grid_SVC, verbose=3)"
   ]
  },
  {
   "cell_type": "code",
   "execution_count": 14,
   "metadata": {
    "scrolled": false
   },
   "outputs": [
    {
     "name": "stdout",
     "output_type": "stream",
     "text": [
      "Fitting 3 folds for each of 20 candidates, totalling 60 fits\n",
      "[CV] C=1, gamma=0.0001 ...............................................\n",
      "[CV] ................... C=1, gamma=0.0001, score=0.794, total=   0.0s\n",
      "[CV] C=1, gamma=0.0001 ...............................................\n"
     ]
    },
    {
     "name": "stderr",
     "output_type": "stream",
     "text": [
      "C:\\Users\\joaog\\Anaconda3\\lib\\site-packages\\sklearn\\model_selection\\_split.py:1978: FutureWarning: The default value of cv will change from 3 to 5 in version 0.22. Specify it explicitly to silence this warning.\n",
      "  warnings.warn(CV_WARNING, FutureWarning)\n",
      "[Parallel(n_jobs=1)]: Using backend SequentialBackend with 1 concurrent workers.\n",
      "[Parallel(n_jobs=1)]: Done   1 out of   1 | elapsed:    0.0s remaining:    0.0s\n",
      "[Parallel(n_jobs=1)]: Done   2 out of   2 | elapsed:    0.0s remaining:    0.0s\n"
     ]
    },
    {
     "name": "stdout",
     "output_type": "stream",
     "text": [
      "[CV] ................... C=1, gamma=0.0001, score=0.827, total=   0.0s\n",
      "[CV] C=1, gamma=0.0001 ...............................................\n",
      "[CV] ................... C=1, gamma=0.0001, score=0.823, total=   0.0s\n",
      "[CV] C=1, gamma=0.0005 ...............................................\n",
      "[CV] ................... C=1, gamma=0.0005, score=0.794, total=   0.0s\n",
      "[CV] C=1, gamma=0.0005 ...............................................\n",
      "[CV] ................... C=1, gamma=0.0005, score=0.827, total=   0.0s\n",
      "[CV] C=1, gamma=0.0005 ...............................................\n",
      "[CV] ................... C=1, gamma=0.0005, score=0.823, total=   0.0s\n",
      "[CV] C=1, gamma=0.001 ................................................\n",
      "[CV] .................... C=1, gamma=0.001, score=0.794, total=   0.0s\n",
      "[CV] C=1, gamma=0.001 ................................................\n",
      "[CV] .................... C=1, gamma=0.001, score=0.827, total=   0.0s\n",
      "[CV] C=1, gamma=0.001 ................................................\n",
      "[CV] .................... C=1, gamma=0.001, score=0.823, total=   0.0s\n",
      "[CV] C=1, gamma=0.005 ................................................\n",
      "[CV] .................... C=1, gamma=0.005, score=0.794, total=   0.0s\n",
      "[CV] C=1, gamma=0.005 ................................................\n",
      "[CV] .................... C=1, gamma=0.005, score=0.827, total=   0.0s\n",
      "[CV] C=1, gamma=0.005 ................................................\n",
      "[CV] .................... C=1, gamma=0.005, score=0.823, total=   0.0s\n",
      "[CV] C=5, gamma=0.0001 ...............................................\n",
      "[CV] ................... C=5, gamma=0.0001, score=0.830, total=   0.0s\n",
      "[CV] C=5, gamma=0.0001 ...............................................\n",
      "[CV] ................... C=5, gamma=0.0001, score=0.856, total=   0.0s\n",
      "[CV] C=5, gamma=0.0001 ...............................................\n",
      "[CV] ................... C=5, gamma=0.0001, score=0.842, total=   0.0s\n",
      "[CV] C=5, gamma=0.0005 ...............................................\n",
      "[CV] ................... C=5, gamma=0.0005, score=0.830, total=   0.0s\n",
      "[CV] C=5, gamma=0.0005 ...............................................\n",
      "[CV] ................... C=5, gamma=0.0005, score=0.856, total=   0.0s\n",
      "[CV] C=5, gamma=0.0005 ...............................................\n",
      "[CV] ................... C=5, gamma=0.0005, score=0.842, total=   0.0s\n",
      "[CV] C=5, gamma=0.001 ................................................\n",
      "[CV] .................... C=5, gamma=0.001, score=0.830, total=   0.0s\n",
      "[CV] C=5, gamma=0.001 ................................................\n",
      "[CV] .................... C=5, gamma=0.001, score=0.856, total=   0.0s\n",
      "[CV] C=5, gamma=0.001 ................................................\n",
      "[CV] .................... C=5, gamma=0.001, score=0.842, total=   0.0s\n",
      "[CV] C=5, gamma=0.005 ................................................\n",
      "[CV] .................... C=5, gamma=0.005, score=0.830, total=   0.0s\n",
      "[CV] C=5, gamma=0.005 ................................................\n",
      "[CV] .................... C=5, gamma=0.005, score=0.856, total=   0.0s\n",
      "[CV] C=5, gamma=0.005 ................................................\n",
      "[CV] .................... C=5, gamma=0.005, score=0.842, total=   0.0s\n",
      "[CV] C=10, gamma=0.0001 ..............................................\n",
      "[CV] .................. C=10, gamma=0.0001, score=0.847, total=   0.0s\n",
      "[CV] C=10, gamma=0.0001 ..............................................\n",
      "[CV] .................. C=10, gamma=0.0001, score=0.854, total=   0.0s\n",
      "[CV] C=10, gamma=0.0001 ..............................................\n",
      "[CV] .................. C=10, gamma=0.0001, score=0.857, total=   0.0s\n",
      "[CV] C=10, gamma=0.0005 ..............................................\n",
      "[CV] .................. C=10, gamma=0.0005, score=0.847, total=   0.0s\n",
      "[CV] C=10, gamma=0.0005 ..............................................\n",
      "[CV] .................. C=10, gamma=0.0005, score=0.854, total=   0.0s\n",
      "[CV] C=10, gamma=0.0005 ..............................................\n",
      "[CV] .................. C=10, gamma=0.0005, score=0.857, total=   0.0s\n",
      "[CV] C=10, gamma=0.001 ...............................................\n",
      "[CV] ................... C=10, gamma=0.001, score=0.847, total=   0.0s\n",
      "[CV] C=10, gamma=0.001 ...............................................\n",
      "[CV] ................... C=10, gamma=0.001, score=0.854, total=   0.0s\n",
      "[CV] C=10, gamma=0.001 ...............................................\n",
      "[CV] ................... C=10, gamma=0.001, score=0.857, total=   0.0s\n",
      "[CV] C=10, gamma=0.005 ...............................................\n",
      "[CV] ................... C=10, gamma=0.005, score=0.847, total=   0.0s\n",
      "[CV] C=10, gamma=0.005 ...............................................\n",
      "[CV] ................... C=10, gamma=0.005, score=0.854, total=   0.0s\n",
      "[CV] C=10, gamma=0.005 ...............................................\n",
      "[CV] ................... C=10, gamma=0.005, score=0.857, total=   0.0s\n",
      "[CV] C=50, gamma=0.0001 ..............................................\n",
      "[CV] .................. C=50, gamma=0.0001, score=0.854, total=   0.0s\n",
      "[CV] C=50, gamma=0.0001 ..............................................\n",
      "[CV] .................. C=50, gamma=0.0001, score=0.875, total=   0.0s\n",
      "[CV] C=50, gamma=0.0001 ..............................................\n",
      "[CV] .................. C=50, gamma=0.0001, score=0.890, total=   0.0s\n",
      "[CV] C=50, gamma=0.0005 ..............................................\n",
      "[CV] .................. C=50, gamma=0.0005, score=0.854, total=   0.0s\n",
      "[CV] C=50, gamma=0.0005 ..............................................\n",
      "[CV] .................. C=50, gamma=0.0005, score=0.875, total=   0.0s\n",
      "[CV] C=50, gamma=0.0005 ..............................................\n",
      "[CV] .................. C=50, gamma=0.0005, score=0.890, total=   0.0s\n",
      "[CV] C=50, gamma=0.001 ...............................................\n",
      "[CV] ................... C=50, gamma=0.001, score=0.854, total=   0.0s\n",
      "[CV] C=50, gamma=0.001 ...............................................\n",
      "[CV] ................... C=50, gamma=0.001, score=0.875, total=   0.1s\n",
      "[CV] C=50, gamma=0.001 ...............................................\n",
      "[CV] ................... C=50, gamma=0.001, score=0.890, total=   0.0s\n",
      "[CV] C=50, gamma=0.005 ...............................................\n",
      "[CV] ................... C=50, gamma=0.005, score=0.854, total=   0.0s\n",
      "[CV] C=50, gamma=0.005 ...............................................\n",
      "[CV] ................... C=50, gamma=0.005, score=0.875, total=   0.1s\n",
      "[CV] C=50, gamma=0.005 ...............................................\n",
      "[CV] ................... C=50, gamma=0.005, score=0.890, total=   0.0s\n",
      "[CV] C=100, gamma=0.0001 .............................................\n",
      "[CV] ................. C=100, gamma=0.0001, score=0.856, total=   0.0s\n",
      "[CV] C=100, gamma=0.0001 .............................................\n",
      "[CV] ................. C=100, gamma=0.0001, score=0.882, total=   0.1s\n",
      "[CV] C=100, gamma=0.0001 .............................................\n",
      "[CV] ................. C=100, gamma=0.0001, score=0.888, total=   0.0s\n",
      "[CV] C=100, gamma=0.0005 .............................................\n",
      "[CV] ................. C=100, gamma=0.0005, score=0.856, total=   0.0s\n",
      "[CV] C=100, gamma=0.0005 .............................................\n",
      "[CV] ................. C=100, gamma=0.0005, score=0.882, total=   0.1s\n",
      "[CV] C=100, gamma=0.0005 .............................................\n",
      "[CV] ................. C=100, gamma=0.0005, score=0.888, total=   0.0s\n",
      "[CV] C=100, gamma=0.001 ..............................................\n",
      "[CV] .................. C=100, gamma=0.001, score=0.856, total=   0.0s\n",
      "[CV] C=100, gamma=0.001 ..............................................\n",
      "[CV] .................. C=100, gamma=0.001, score=0.882, total=   0.1s\n",
      "[CV] C=100, gamma=0.001 ..............................................\n",
      "[CV] .................. C=100, gamma=0.001, score=0.888, total=   0.0s\n",
      "[CV] C=100, gamma=0.005 ..............................................\n",
      "[CV] .................. C=100, gamma=0.005, score=0.856, total=   0.0s\n",
      "[CV] C=100, gamma=0.005 ..............................................\n",
      "[CV] .................. C=100, gamma=0.005, score=0.882, total=   0.1s\n",
      "[CV] C=100, gamma=0.005 ..............................................\n",
      "[CV] .................. C=100, gamma=0.005, score=0.888, total=   0.0s\n"
     ]
    },
    {
     "name": "stderr",
     "output_type": "stream",
     "text": [
      "[Parallel(n_jobs=1)]: Done  60 out of  60 | elapsed:    2.3s finished\n"
     ]
    },
    {
     "data": {
      "text/plain": [
       "GridSearchCV(cv='warn', error_score='raise-deprecating',\n",
       "             estimator=SVC(C=1.0, cache_size=200, class_weight=None, coef0=0.0,\n",
       "                           decision_function_shape='ovr', degree=3,\n",
       "                           gamma='auto_deprecated', kernel='linear',\n",
       "                           max_iter=-1, probability=False, random_state=None,\n",
       "                           shrinking=True, tol=0.001, verbose=False),\n",
       "             iid='warn', n_jobs=None,\n",
       "             param_grid={'C': [1, 5, 10, 50, 100],\n",
       "                         'gamma': [0.0001, 0.0005, 0.001, 0.005]},\n",
       "             pre_dispatch='2*n_jobs', refit=True, return_train_score=False,\n",
       "             scoring=None, verbose=3)"
      ]
     },
     "execution_count": 14,
     "metadata": {},
     "output_type": "execute_result"
    }
   ],
   "source": [
    "# Train the model with GridSearch\n",
    "grid_SVC.fit(X_train_scaled, y_train)"
   ]
  },
  {
   "cell_type": "code",
   "execution_count": 15,
   "metadata": {},
   "outputs": [
    {
     "name": "stdout",
     "output_type": "stream",
     "text": [
      "{'C': 100, 'gamma': 0.0001}\n",
      "0.8752146536920435\n"
     ]
    }
   ],
   "source": [
    "print(grid_SVC.best_params_)\n",
    "print(grid_SVC.best_score_)"
   ]
  },
  {
   "cell_type": "code",
   "execution_count": 16,
   "metadata": {},
   "outputs": [],
   "source": [
    "bestSVC_model = SVC(C=100, kernel='linear', gamma=0.0001)"
   ]
  },
  {
   "cell_type": "code",
   "execution_count": 17,
   "metadata": {},
   "outputs": [
    {
     "name": "stdout",
     "output_type": "stream",
     "text": [
      "Testing Data bestSVC_model Score: 0.8905415713196033\n"
     ]
    }
   ],
   "source": [
    "#Best SVC model results\n",
    "bestSVC_model.fit(X_test_scaled, y_test)\n",
    "print(f\"Testing Data bestSVC_model Score: {bestSVC_model.score(X_test_scaled, y_test)}\")"
   ]
  },
  {
   "cell_type": "markdown",
   "metadata": {},
   "source": [
    "# Deep Learning Model"
   ]
  },
  {
   "cell_type": "code",
   "execution_count": 18,
   "metadata": {},
   "outputs": [],
   "source": [
    "from tensorflow.keras.models import Sequential\n",
    "from tensorflow.keras.layers import Dense\n",
    "\n",
    "deep_model = Sequential()\n",
    "deep_model.add(Dense(units=6, activation='relu', input_dim=30))\n",
    "deep_model.add(Dense(units=3, activation='softmax'))"
   ]
  },
  {
   "cell_type": "code",
   "execution_count": 19,
   "metadata": {},
   "outputs": [
    {
     "name": "stdout",
     "output_type": "stream",
     "text": [
      "Model: \"sequential\"\n",
      "_________________________________________________________________\n",
      "Layer (type)                 Output Shape              Param #   \n",
      "=================================================================\n",
      "dense (Dense)                (None, 6)                 186       \n",
      "_________________________________________________________________\n",
      "dense_1 (Dense)              (None, 3)                 21        \n",
      "=================================================================\n",
      "Total params: 207\n",
      "Trainable params: 207\n",
      "Non-trainable params: 0\n",
      "_________________________________________________________________\n"
     ]
    }
   ],
   "source": [
    "deep_model.summary()"
   ]
  },
  {
   "cell_type": "code",
   "execution_count": 20,
   "metadata": {},
   "outputs": [
    {
     "name": "stdout",
     "output_type": "stream",
     "text": [
      "[[0. 0. 1.]\n",
      " [1. 0. 0.]\n",
      " [0. 0. 1.]\n",
      " ...\n",
      " [0. 0. 1.]\n",
      " [0. 1. 0.]\n",
      " [0. 0. 1.]]\n"
     ]
    },
    {
     "name": "stderr",
     "output_type": "stream",
     "text": [
      "Using TensorFlow backend.\n"
     ]
    }
   ],
   "source": [
    "from keras.utils import to_categorical\n",
    "\n",
    "# One-hot encoding y\n",
    "y_train_categorical = to_categorical(y_train)\n",
    "y_test_categorical = to_categorical(y_test)\n",
    "print(y_test_categorical)"
   ]
  },
  {
   "cell_type": "code",
   "execution_count": 21,
   "metadata": {},
   "outputs": [
    {
     "name": "stdout",
     "output_type": "stream",
     "text": [
      "Train on 1747 samples\n",
      "Epoch 1/100\n",
      "1747/1747 - 0s - loss: 1.0183 - accuracy: 0.4282\n",
      "Epoch 2/100\n",
      "1747/1747 - 0s - loss: 0.9285 - accuracy: 0.5140\n",
      "Epoch 3/100\n",
      "1747/1747 - 0s - loss: 0.8647 - accuracy: 0.5152\n",
      "Epoch 4/100\n",
      "1747/1747 - 0s - loss: 0.8138 - accuracy: 0.5152\n",
      "Epoch 5/100\n",
      "1747/1747 - 0s - loss: 0.7586 - accuracy: 0.5272\n",
      "Epoch 6/100\n",
      "1747/1747 - 0s - loss: 0.6945 - accuracy: 0.6903\n",
      "Epoch 7/100\n",
      "1747/1747 - 0s - loss: 0.6269 - accuracy: 0.7624\n",
      "Epoch 8/100\n",
      "1747/1747 - 0s - loss: 0.5666 - accuracy: 0.7659\n",
      "Epoch 9/100\n",
      "1747/1747 - 0s - loss: 0.5169 - accuracy: 0.7665\n",
      "Epoch 10/100\n",
      "1747/1747 - 0s - loss: 0.4803 - accuracy: 0.7682\n",
      "Epoch 11/100\n",
      "1747/1747 - 0s - loss: 0.4532 - accuracy: 0.7716\n",
      "Epoch 12/100\n",
      "1747/1747 - 0s - loss: 0.4328 - accuracy: 0.7710\n",
      "Epoch 13/100\n",
      "1747/1747 - 0s - loss: 0.4179 - accuracy: 0.7934\n",
      "Epoch 14/100\n",
      "1747/1747 - 0s - loss: 0.4053 - accuracy: 0.7859\n",
      "Epoch 15/100\n",
      "1747/1747 - 0s - loss: 0.3960 - accuracy: 0.8088\n",
      "Epoch 16/100\n",
      "1747/1747 - 0s - loss: 0.3879 - accuracy: 0.8105\n",
      "Epoch 17/100\n",
      "1747/1747 - 0s - loss: 0.3816 - accuracy: 0.8094\n",
      "Epoch 18/100\n",
      "1747/1747 - 0s - loss: 0.3765 - accuracy: 0.8122\n",
      "Epoch 19/100\n",
      "1747/1747 - 0s - loss: 0.3721 - accuracy: 0.8208\n",
      "Epoch 20/100\n",
      "1747/1747 - 0s - loss: 0.3684 - accuracy: 0.8203\n",
      "Epoch 21/100\n",
      "1747/1747 - 0s - loss: 0.3643 - accuracy: 0.8226\n",
      "Epoch 22/100\n",
      "1747/1747 - 0s - loss: 0.3612 - accuracy: 0.8163\n",
      "Epoch 23/100\n",
      "1747/1747 - 0s - loss: 0.3588 - accuracy: 0.8254\n",
      "Epoch 24/100\n",
      "1747/1747 - 0s - loss: 0.3561 - accuracy: 0.8208\n",
      "Epoch 25/100\n",
      "1747/1747 - 0s - loss: 0.3535 - accuracy: 0.8220\n",
      "Epoch 26/100\n",
      "1747/1747 - 0s - loss: 0.3518 - accuracy: 0.8277\n",
      "Epoch 27/100\n",
      "1747/1747 - 0s - loss: 0.3500 - accuracy: 0.8329\n",
      "Epoch 28/100\n",
      "1747/1747 - 0s - loss: 0.3483 - accuracy: 0.8288\n",
      "Epoch 29/100\n",
      "1747/1747 - 0s - loss: 0.3466 - accuracy: 0.8243\n",
      "Epoch 30/100\n",
      "1747/1747 - 0s - loss: 0.3446 - accuracy: 0.8288\n",
      "Epoch 31/100\n",
      "1747/1747 - 0s - loss: 0.3432 - accuracy: 0.8340\n",
      "Epoch 32/100\n",
      "1747/1747 - 0s - loss: 0.3418 - accuracy: 0.8329\n",
      "Epoch 33/100\n",
      "1747/1747 - 0s - loss: 0.3406 - accuracy: 0.8283\n",
      "Epoch 34/100\n",
      "1747/1747 - 0s - loss: 0.3389 - accuracy: 0.8363\n",
      "Epoch 35/100\n",
      "1747/1747 - 0s - loss: 0.3380 - accuracy: 0.8346\n",
      "Epoch 36/100\n",
      "1747/1747 - 0s - loss: 0.3368 - accuracy: 0.8380\n",
      "Epoch 37/100\n",
      "1747/1747 - 0s - loss: 0.3356 - accuracy: 0.8357\n",
      "Epoch 38/100\n",
      "1747/1747 - 0s - loss: 0.3347 - accuracy: 0.8363\n",
      "Epoch 39/100\n",
      "1747/1747 - 0s - loss: 0.3333 - accuracy: 0.8351\n",
      "Epoch 40/100\n",
      "1747/1747 - 0s - loss: 0.3321 - accuracy: 0.8426\n",
      "Epoch 41/100\n",
      "1747/1747 - 0s - loss: 0.3313 - accuracy: 0.8346\n",
      "Epoch 42/100\n",
      "1747/1747 - 0s - loss: 0.3308 - accuracy: 0.8392\n",
      "Epoch 43/100\n",
      "1747/1747 - 0s - loss: 0.3293 - accuracy: 0.8380\n",
      "Epoch 44/100\n",
      "1747/1747 - 0s - loss: 0.3286 - accuracy: 0.8409\n",
      "Epoch 45/100\n",
      "1747/1747 - 0s - loss: 0.3281 - accuracy: 0.8409\n",
      "Epoch 46/100\n",
      "1747/1747 - 0s - loss: 0.3275 - accuracy: 0.8397\n",
      "Epoch 47/100\n",
      "1747/1747 - 0s - loss: 0.3261 - accuracy: 0.8426\n",
      "Epoch 48/100\n",
      "1747/1747 - 0s - loss: 0.3249 - accuracy: 0.8420\n",
      "Epoch 49/100\n",
      "1747/1747 - 0s - loss: 0.3247 - accuracy: 0.8437\n",
      "Epoch 50/100\n",
      "1747/1747 - 0s - loss: 0.3238 - accuracy: 0.8403\n",
      "Epoch 51/100\n",
      "1747/1747 - 0s - loss: 0.3229 - accuracy: 0.8466\n",
      "Epoch 52/100\n",
      "1747/1747 - 0s - loss: 0.3218 - accuracy: 0.8466\n",
      "Epoch 53/100\n",
      "1747/1747 - 0s - loss: 0.3220 - accuracy: 0.8409\n",
      "Epoch 54/100\n",
      "1747/1747 - 0s - loss: 0.3209 - accuracy: 0.8472\n",
      "Epoch 55/100\n",
      "1747/1747 - 0s - loss: 0.3199 - accuracy: 0.8432\n",
      "Epoch 56/100\n",
      "1747/1747 - 0s - loss: 0.3193 - accuracy: 0.8483\n",
      "Epoch 57/100\n",
      "1747/1747 - 0s - loss: 0.3190 - accuracy: 0.8449\n",
      "Epoch 58/100\n",
      "1747/1747 - 0s - loss: 0.3182 - accuracy: 0.8483\n",
      "Epoch 59/100\n",
      "1747/1747 - 0s - loss: 0.3179 - accuracy: 0.8489\n",
      "Epoch 60/100\n",
      "1747/1747 - 0s - loss: 0.3168 - accuracy: 0.8466\n",
      "Epoch 61/100\n",
      "1747/1747 - 0s - loss: 0.3163 - accuracy: 0.8466\n",
      "Epoch 62/100\n",
      "1747/1747 - 0s - loss: 0.3157 - accuracy: 0.8443\n",
      "Epoch 63/100\n",
      "1747/1747 - 0s - loss: 0.3151 - accuracy: 0.8483\n",
      "Epoch 64/100\n",
      "1747/1747 - 0s - loss: 0.3144 - accuracy: 0.8500\n",
      "Epoch 65/100\n",
      "1747/1747 - 0s - loss: 0.3143 - accuracy: 0.8483\n",
      "Epoch 66/100\n",
      "1747/1747 - 0s - loss: 0.3133 - accuracy: 0.8506\n",
      "Epoch 67/100\n",
      "1747/1747 - 0s - loss: 0.3129 - accuracy: 0.8517\n",
      "Epoch 68/100\n",
      "1747/1747 - 0s - loss: 0.3123 - accuracy: 0.8500\n",
      "Epoch 69/100\n",
      "1747/1747 - 0s - loss: 0.3122 - accuracy: 0.8529\n",
      "Epoch 70/100\n",
      "1747/1747 - 0s - loss: 0.3109 - accuracy: 0.8500\n",
      "Epoch 71/100\n",
      "1747/1747 - 0s - loss: 0.3102 - accuracy: 0.8523\n",
      "Epoch 72/100\n",
      "1747/1747 - 0s - loss: 0.3099 - accuracy: 0.8535\n",
      "Epoch 73/100\n",
      "1747/1747 - 0s - loss: 0.3101 - accuracy: 0.8523\n",
      "Epoch 74/100\n",
      "1747/1747 - 0s - loss: 0.3086 - accuracy: 0.8512\n",
      "Epoch 75/100\n",
      "1747/1747 - 0s - loss: 0.3092 - accuracy: 0.8558\n",
      "Epoch 76/100\n",
      "1747/1747 - 0s - loss: 0.3080 - accuracy: 0.8535\n",
      "Epoch 77/100\n",
      "1747/1747 - 0s - loss: 0.3076 - accuracy: 0.8517\n",
      "Epoch 78/100\n",
      "1747/1747 - 0s - loss: 0.3069 - accuracy: 0.8546\n",
      "Epoch 79/100\n",
      "1747/1747 - 0s - loss: 0.3067 - accuracy: 0.8552\n",
      "Epoch 80/100\n",
      "1747/1747 - 0s - loss: 0.3058 - accuracy: 0.8546\n",
      "Epoch 81/100\n",
      "1747/1747 - 0s - loss: 0.3062 - accuracy: 0.8558\n",
      "Epoch 82/100\n",
      "1747/1747 - 0s - loss: 0.3056 - accuracy: 0.8540\n",
      "Epoch 83/100\n",
      "1747/1747 - 0s - loss: 0.3045 - accuracy: 0.8575\n",
      "Epoch 84/100\n",
      "1747/1747 - 0s - loss: 0.3047 - accuracy: 0.8563\n",
      "Epoch 85/100\n",
      "1747/1747 - 0s - loss: 0.3042 - accuracy: 0.8563\n",
      "Epoch 86/100\n",
      "1747/1747 - 0s - loss: 0.3033 - accuracy: 0.8563\n",
      "Epoch 87/100\n",
      "1747/1747 - 0s - loss: 0.3034 - accuracy: 0.8558\n",
      "Epoch 88/100\n",
      "1747/1747 - 0s - loss: 0.3032 - accuracy: 0.8575\n",
      "Epoch 89/100\n",
      "1747/1747 - 0s - loss: 0.3023 - accuracy: 0.8580\n",
      "Epoch 90/100\n",
      "1747/1747 - 0s - loss: 0.3022 - accuracy: 0.8598\n",
      "Epoch 91/100\n",
      "1747/1747 - 0s - loss: 0.3014 - accuracy: 0.8575\n",
      "Epoch 92/100\n",
      "1747/1747 - 0s - loss: 0.3012 - accuracy: 0.8552\n",
      "Epoch 93/100\n",
      "1747/1747 - 0s - loss: 0.3002 - accuracy: 0.8620\n",
      "Epoch 94/100\n",
      "1747/1747 - 0s - loss: 0.3001 - accuracy: 0.8563\n",
      "Epoch 95/100\n",
      "1747/1747 - 0s - loss: 0.3003 - accuracy: 0.8592\n",
      "Epoch 96/100\n",
      "1747/1747 - 0s - loss: 0.2996 - accuracy: 0.8603\n",
      "Epoch 97/100\n",
      "1747/1747 - 0s - loss: 0.3003 - accuracy: 0.8586\n",
      "Epoch 98/100\n",
      "1747/1747 - 0s - loss: 0.2987 - accuracy: 0.8586\n",
      "Epoch 99/100\n",
      "1747/1747 - 0s - loss: 0.2986 - accuracy: 0.8598\n",
      "Epoch 100/100\n",
      "1747/1747 - 0s - loss: 0.2984 - accuracy: 0.8609\n"
     ]
    },
    {
     "data": {
      "text/plain": [
       "<tensorflow.python.keras.callbacks.History at 0x20003aa8d08>"
      ]
     },
     "execution_count": 21,
     "metadata": {},
     "output_type": "execute_result"
    }
   ],
   "source": [
    "# Compile and fit the model\n",
    "deep_model.compile(loss=\"categorical_crossentropy\",\n",
    "              optimizer=\"adam\", metrics=['accuracy'])\n",
    "deep_model.fit(\n",
    "    X_train_scaled,\n",
    "    y_train_categorical,\n",
    "    epochs=100,\n",
    "    shuffle=True,\n",
    "    verbose=2\n",
    ")"
   ]
  },
  {
   "cell_type": "code",
   "execution_count": 22,
   "metadata": {},
   "outputs": [
    {
     "name": "stdout",
     "output_type": "stream",
     "text": [
      "Normal Neural Network - Loss: 0.31877187721880224, Accuracy: 0.8659420013427734\n"
     ]
    }
   ],
   "source": [
    "model_loss, model_accuracy = deep_model.evaluate(\n",
    "    X_test_scaled, y_test_categorical, verbose=3)\n",
    "print(\n",
    "    f\"Normal Neural Network - Loss: {model_loss}, Accuracy: {model_accuracy}\")"
   ]
  },
  {
   "cell_type": "markdown",
   "metadata": {},
   "source": [
    "# Ramdon Forest Model"
   ]
  },
  {
   "cell_type": "code",
   "execution_count": 23,
   "metadata": {},
   "outputs": [
    {
     "name": "stdout",
     "output_type": "stream",
     "text": [
      "Training RandonForest Data Score: 0.9942759015455066\n",
      "Testing RandonForest Data Score: 0.8686117467581999\n"
     ]
    },
    {
     "name": "stderr",
     "output_type": "stream",
     "text": [
      "C:\\Users\\joaog\\Anaconda3\\lib\\site-packages\\sklearn\\ensemble\\forest.py:245: FutureWarning: The default value of n_estimators will change from 10 in version 0.20 to 100 in 0.22.\n",
      "  \"10 in version 0.20 to 100 in 0.22.\", FutureWarning)\n"
     ]
    }
   ],
   "source": [
    "from sklearn.ensemble import RandomForestClassifier\n",
    "rf = RandomForestClassifier()\n",
    "rf.fit(X_train_scaled, y_train)\n",
    "# rf.fit(X_test_scaled, y_test)\n",
    "\n",
    "print(f\"Training RandonForest Data Score: {rf.score(X_train_scaled, y_train)}\")\n",
    "print(f\"Testing RandonForest Data Score: {rf.score(X_test_scaled, y_test)}\")"
   ]
  },
  {
   "cell_type": "code",
   "execution_count": 24,
   "metadata": {},
   "outputs": [],
   "source": [
    "param_grid_rf = {'n_estimators': [250, 300, 350],'max_depth': [125, 150, 175]}\n",
    "\n",
    "grid_rf = GridSearchCV(rf, param_grid_rf, verbose=3)"
   ]
  },
  {
   "cell_type": "code",
   "execution_count": 25,
   "metadata": {},
   "outputs": [
    {
     "name": "stdout",
     "output_type": "stream",
     "text": [
      "Fitting 3 folds for each of 9 candidates, totalling 27 fits\n",
      "[CV] max_depth=125, n_estimators=250 .................................\n"
     ]
    },
    {
     "name": "stderr",
     "output_type": "stream",
     "text": [
      "C:\\Users\\joaog\\Anaconda3\\lib\\site-packages\\sklearn\\model_selection\\_split.py:1978: FutureWarning: The default value of cv will change from 3 to 5 in version 0.22. Specify it explicitly to silence this warning.\n",
      "  warnings.warn(CV_WARNING, FutureWarning)\n",
      "[Parallel(n_jobs=1)]: Using backend SequentialBackend with 1 concurrent workers.\n"
     ]
    },
    {
     "name": "stdout",
     "output_type": "stream",
     "text": [
      "[CV] ..... max_depth=125, n_estimators=250, score=0.854, total=   0.7s\n",
      "[CV] max_depth=125, n_estimators=250 .................................\n"
     ]
    },
    {
     "name": "stderr",
     "output_type": "stream",
     "text": [
      "[Parallel(n_jobs=1)]: Done   1 out of   1 | elapsed:    0.6s remaining:    0.0s\n"
     ]
    },
    {
     "name": "stdout",
     "output_type": "stream",
     "text": [
      "[CV] ..... max_depth=125, n_estimators=250, score=0.868, total=   0.7s\n",
      "[CV] max_depth=125, n_estimators=250 .................................\n"
     ]
    },
    {
     "name": "stderr",
     "output_type": "stream",
     "text": [
      "[Parallel(n_jobs=1)]: Done   2 out of   2 | elapsed:    1.3s remaining:    0.0s\n"
     ]
    },
    {
     "name": "stdout",
     "output_type": "stream",
     "text": [
      "[CV] ..... max_depth=125, n_estimators=250, score=0.871, total=   0.7s\n",
      "[CV] max_depth=125, n_estimators=300 .................................\n",
      "[CV] ..... max_depth=125, n_estimators=300, score=0.859, total=   0.8s\n",
      "[CV] max_depth=125, n_estimators=300 .................................\n",
      "[CV] ..... max_depth=125, n_estimators=300, score=0.864, total=   0.8s\n",
      "[CV] max_depth=125, n_estimators=300 .................................\n",
      "[CV] ..... max_depth=125, n_estimators=300, score=0.869, total=   0.8s\n",
      "[CV] max_depth=125, n_estimators=350 .................................\n",
      "[CV] ..... max_depth=125, n_estimators=350, score=0.861, total=   1.0s\n",
      "[CV] max_depth=125, n_estimators=350 .................................\n",
      "[CV] ..... max_depth=125, n_estimators=350, score=0.863, total=   1.0s\n",
      "[CV] max_depth=125, n_estimators=350 .................................\n",
      "[CV] ..... max_depth=125, n_estimators=350, score=0.876, total=   1.0s\n",
      "[CV] max_depth=150, n_estimators=250 .................................\n",
      "[CV] ..... max_depth=150, n_estimators=250, score=0.859, total=   0.7s\n",
      "[CV] max_depth=150, n_estimators=250 .................................\n",
      "[CV] ..... max_depth=150, n_estimators=250, score=0.871, total=   0.7s\n",
      "[CV] max_depth=150, n_estimators=250 .................................\n",
      "[CV] ..... max_depth=150, n_estimators=250, score=0.871, total=   0.7s\n",
      "[CV] max_depth=150, n_estimators=300 .................................\n",
      "[CV] ..... max_depth=150, n_estimators=300, score=0.863, total=   0.9s\n",
      "[CV] max_depth=150, n_estimators=300 .................................\n",
      "[CV] ..... max_depth=150, n_estimators=300, score=0.875, total=   0.8s\n",
      "[CV] max_depth=150, n_estimators=300 .................................\n",
      "[CV] ..... max_depth=150, n_estimators=300, score=0.871, total=   0.8s\n",
      "[CV] max_depth=150, n_estimators=350 .................................\n",
      "[CV] ..... max_depth=150, n_estimators=350, score=0.858, total=   1.0s\n",
      "[CV] max_depth=150, n_estimators=350 .................................\n",
      "[CV] ..... max_depth=150, n_estimators=350, score=0.870, total=   1.0s\n",
      "[CV] max_depth=150, n_estimators=350 .................................\n",
      "[CV] ..... max_depth=150, n_estimators=350, score=0.871, total=   1.0s\n",
      "[CV] max_depth=175, n_estimators=250 .................................\n",
      "[CV] ..... max_depth=175, n_estimators=250, score=0.861, total=   0.7s\n",
      "[CV] max_depth=175, n_estimators=250 .................................\n",
      "[CV] ..... max_depth=175, n_estimators=250, score=0.864, total=   0.7s\n",
      "[CV] max_depth=175, n_estimators=250 .................................\n",
      "[CV] ..... max_depth=175, n_estimators=250, score=0.874, total=   0.7s\n",
      "[CV] max_depth=175, n_estimators=300 .................................\n",
      "[CV] ..... max_depth=175, n_estimators=300, score=0.863, total=   0.9s\n",
      "[CV] max_depth=175, n_estimators=300 .................................\n",
      "[CV] ..... max_depth=175, n_estimators=300, score=0.866, total=   0.8s\n",
      "[CV] max_depth=175, n_estimators=300 .................................\n",
      "[CV] ..... max_depth=175, n_estimators=300, score=0.873, total=   0.8s\n",
      "[CV] max_depth=175, n_estimators=350 .................................\n",
      "[CV] ..... max_depth=175, n_estimators=350, score=0.859, total=   1.0s\n",
      "[CV] max_depth=175, n_estimators=350 .................................\n",
      "[CV] ..... max_depth=175, n_estimators=350, score=0.861, total=   1.0s\n",
      "[CV] max_depth=175, n_estimators=350 .................................\n",
      "[CV] ..... max_depth=175, n_estimators=350, score=0.869, total=   1.0s\n"
     ]
    },
    {
     "name": "stderr",
     "output_type": "stream",
     "text": [
      "[Parallel(n_jobs=1)]: Done  27 out of  27 | elapsed:   22.7s finished\n"
     ]
    },
    {
     "data": {
      "text/plain": [
       "GridSearchCV(cv='warn', error_score='raise-deprecating',\n",
       "             estimator=RandomForestClassifier(bootstrap=True, class_weight=None,\n",
       "                                              criterion='gini', max_depth=None,\n",
       "                                              max_features='auto',\n",
       "                                              max_leaf_nodes=None,\n",
       "                                              min_impurity_decrease=0.0,\n",
       "                                              min_impurity_split=None,\n",
       "                                              min_samples_leaf=1,\n",
       "                                              min_samples_split=2,\n",
       "                                              min_weight_fraction_leaf=0.0,\n",
       "                                              n_estimators=10, n_jobs=None,\n",
       "                                              oob_score=False,\n",
       "                                              random_state=None, verbose=0,\n",
       "                                              warm_start=False),\n",
       "             iid='warn', n_jobs=None,\n",
       "             param_grid={'max_depth': [125, 150, 175],\n",
       "                         'n_estimators': [250, 300, 350]},\n",
       "             pre_dispatch='2*n_jobs', refit=True, return_train_score=False,\n",
       "             scoring=None, verbose=3)"
      ]
     },
     "execution_count": 25,
     "metadata": {},
     "output_type": "execute_result"
    }
   ],
   "source": [
    "grid_rf.fit(X_train_scaled, y_train)"
   ]
  },
  {
   "cell_type": "code",
   "execution_count": 26,
   "metadata": {},
   "outputs": [
    {
     "name": "stdout",
     "output_type": "stream",
     "text": [
      "{'max_depth': 150, 'n_estimators': 300}\n",
      "0.86949055523755\n"
     ]
    }
   ],
   "source": [
    "print(grid_rf.best_params_)\n",
    "print(grid_rf.best_score_)"
   ]
  },
  {
   "cell_type": "code",
   "execution_count": 27,
   "metadata": {},
   "outputs": [
    {
     "name": "stdout",
     "output_type": "stream",
     "text": [
      "                precision    recall  f1-score   support\n",
      "\n",
      "     CANDIDATE       0.79      0.77      0.78      1244\n",
      "     CONFIRMED       0.83      0.80      0.81      1396\n",
      "FALSE POSITIVE       0.97      1.00      0.98      2604\n",
      "\n",
      "      accuracy                           0.89      5244\n",
      "     macro avg       0.86      0.85      0.86      5244\n",
      "  weighted avg       0.89      0.89      0.89      5244\n",
      "\n"
     ]
    }
   ],
   "source": [
    "prediction_rf = grid_rf.predict(X_test_scaled)\n",
    "print(classification_report(y_test, prediction_rf,\n",
    "                            target_names=['CANDIDATE', 'CONFIRMED', 'FALSE POSITIVE']))"
   ]
  },
  {
   "cell_type": "code",
   "execution_count": 28,
   "metadata": {},
   "outputs": [],
   "source": [
    "best_rf = RandomForestClassifier(max_depth=150, n_estimators=250)\n"
   ]
  },
  {
   "cell_type": "code",
   "execution_count": 29,
   "metadata": {},
   "outputs": [
    {
     "name": "stdout",
     "output_type": "stream",
     "text": [
      "Training Data best_RandomForest Score: 1.0\n",
      "Testing Data best_RandomForest Score: 0.8892067124332571\n"
     ]
    }
   ],
   "source": [
    "best_rf.fit(X_train_scaled, y_train)\n",
    "print(f\"Training Data best_RandomForest Score: {best_rf.score(X_train_scaled, y_train)}\")\n",
    "print(f\"Testing Data best_RandomForest Score: {best_rf.score(X_test_scaled, y_test)}\")"
   ]
  },
  {
   "cell_type": "markdown",
   "metadata": {},
   "source": [
    "# Reducing the number of features (Top 21)"
   ]
  },
  {
   "cell_type": "code",
   "execution_count": 30,
   "metadata": {},
   "outputs": [
    {
     "data": {
      "text/plain": [
       "[(0.10651760310250921, 'koi_fpflag_ss'),\n",
       " (0.10215253076684883, 'koi_disposition'),\n",
       " (0.06746860017782709, 'koi_fpflag_nt'),\n",
       " (0.06241729204653372, 'koi_depth_err2'),\n",
       " (0.061284923994393094, 'koi_duration'),\n",
       " (0.04577805089237081, 'koi_impact'),\n",
       " (0.04356054189567794, 'koi_duration_err1'),\n",
       " (0.039109874735009494, 'koi_prad_err2'),\n",
       " (0.03641741470481821, 'koi_period_err2'),\n",
       " (0.03246086025253065, 'koi_time0bk'),\n",
       " (0.03243599294574473, 'koi_fpflag_co'),\n",
       " (0.032029660943530464, 'koi_fpflag_ec'),\n",
       " (0.0303212989281698, 'koi_period'),\n",
       " (0.030107239258624525, 'koi_impact_err1'),\n",
       " (0.028130196686651687, 'koi_time0bk_err2'),\n",
       " (0.023610370138148866, 'koi_period_err1'),\n",
       " (0.02287325780233609, 'koi_impact_err2'),\n",
       " (0.022500095329861202, 'koi_depth_err1'),\n",
       " (0.02247964809008997, 'koi_duration_err2'),\n",
       " (0.021340024380585708, 'koi_depth'),\n",
       " (0.01775599901316504, 'koi_insol_err2')]"
      ]
     },
     "execution_count": 30,
     "metadata": {},
     "output_type": "execute_result"
    }
   ],
   "source": [
    "#using feature_imporntances_ to see the top21 most relevant features\n",
    "\n",
    "top21_features = sorted(zip(best_rf.feature_importances_, df.columns), reverse=True)[:21]\n",
    "top21_features"
   ]
  },
  {
   "cell_type": "code",
   "execution_count": 31,
   "metadata": {},
   "outputs": [
    {
     "name": "stdout",
     "output_type": "stream",
     "text": [
      "(6991, 20) (6991, 1)\n"
     ]
    }
   ],
   "source": [
    "# using the top21 features\n",
    "features = []\n",
    "for data in top21_features:\n",
    "    features.append(data[1]) \n",
    "\n",
    "    \n",
    "top21 = df[features]\n",
    "\n",
    "X1 = top21.drop([\"koi_disposition\"], axis=1)\n",
    "y1 = top21[\"koi_disposition\"].values.reshape(-1, 1)\n",
    "print(X1.shape, y1.shape)"
   ]
  },
  {
   "cell_type": "code",
   "execution_count": 32,
   "metadata": {},
   "outputs": [
    {
     "name": "stderr",
     "output_type": "stream",
     "text": [
      "C:\\Users\\joaog\\Anaconda3\\lib\\site-packages\\sklearn\\preprocessing\\label.py:219: DataConversionWarning: A column-vector y was passed when a 1d array was expected. Please change the shape of y to (n_samples, ), for example using ravel().\n",
      "  y = column_or_1d(y, warn=True)\n",
      "C:\\Users\\joaog\\Anaconda3\\lib\\site-packages\\sklearn\\preprocessing\\label.py:252: DataConversionWarning: A column-vector y was passed when a 1d array was expected. Please change the shape of y to (n_samples, ), for example using ravel().\n",
      "  y = column_or_1d(y, warn=True)\n"
     ]
    },
    {
     "data": {
      "text/plain": [
       "array([1, 2, 2, ..., 0, 2, 2])"
      ]
     },
     "execution_count": 32,
     "metadata": {},
     "output_type": "execute_result"
    }
   ],
   "source": [
    "label_encoder = LabelEncoder()\n",
    "label_encoder.fit(y1)\n",
    "encoded_y1 = label_encoder.transform(y1).reshape(-1,1).ravel()\n",
    "encoded_y1\n"
   ]
  },
  {
   "cell_type": "code",
   "execution_count": 33,
   "metadata": {},
   "outputs": [],
   "source": [
    "#split the data\n",
    "X1_train, X1_test, y1_train, y1_test = train_test_split(\n",
    "    X1, encoded_y1,train_size=0.25, random_state=42)"
   ]
  },
  {
   "cell_type": "code",
   "execution_count": 34,
   "metadata": {},
   "outputs": [],
   "source": [
    "X1_scaler = MinMaxScaler().fit(X1_train)\n",
    "X1_train_scaled = X1_scaler.transform(X1_train)\n",
    "X1_test_scaled = X1_scaler.transform(X1_test)"
   ]
  },
  {
   "cell_type": "markdown",
   "metadata": {},
   "source": [
    "### SVC Top21"
   ]
  },
  {
   "cell_type": "code",
   "execution_count": 35,
   "metadata": {},
   "outputs": [],
   "source": [
    "from sklearn.svm import SVC \n",
    "model_SVC_top21 = SVC(kernel='linear')\n",
    "model_SVC_top21.fit(X1_train_scaled, y1_train)\n",
    "predictions1 = model_SVC_top21.predict(X1_test)"
   ]
  },
  {
   "cell_type": "code",
   "execution_count": 36,
   "metadata": {},
   "outputs": [
    {
     "name": "stdout",
     "output_type": "stream",
     "text": [
      "Training SVC_top21 Data Score: 0.7985117344018318\n",
      "Testing SVC_top21 Data Score: 0.8037757437070938\n"
     ]
    }
   ],
   "source": [
    "print(f\"Training SVC_top21 Data Score: {model_SVC_top21.score(X1_train_scaled, y1_train)}\")\n",
    "print(f\"Testing SVC_top21 Data Score: {model_SVC_top21.score(X1_test_scaled, y1_test)}\")"
   ]
  },
  {
   "cell_type": "code",
   "execution_count": 37,
   "metadata": {},
   "outputs": [
    {
     "name": "stdout",
     "output_type": "stream",
     "text": [
      "Fitting 3 folds for each of 20 candidates, totalling 60 fits\n",
      "[CV] C=1, gamma=0.0001 ...............................................\n",
      "[CV] ................... C=1, gamma=0.0001, score=0.779, total=   0.0s\n",
      "[CV] C=1, gamma=0.0001 ...............................................\n",
      "[CV] ................... C=1, gamma=0.0001, score=0.799, total=   0.0s\n",
      "[CV] C=1, gamma=0.0001 ...............................................\n",
      "[CV] ................... C=1, gamma=0.0001, score=0.792, total=   0.0s\n",
      "[CV] C=1, gamma=0.0005 ...............................................\n",
      "[CV] ................... C=1, gamma=0.0005, score=0.779, total=   0.0s\n",
      "[CV] C=1, gamma=0.0005 ...............................................\n",
      "[CV] ................... C=1, gamma=0.0005, score=0.799, total=   0.0s\n",
      "[CV] C=1, gamma=0.0005 ...............................................\n",
      "[CV] ................... C=1, gamma=0.0005, score=0.792, total=   0.0s\n",
      "[CV] C=1, gamma=0.001 ................................................\n",
      "[CV] .................... C=1, gamma=0.001, score=0.779, total=   0.0s\n",
      "[CV] C=1, gamma=0.001 ................................................\n",
      "[CV] .................... C=1, gamma=0.001, score=0.799, total=   0.0s\n",
      "[CV] C=1, gamma=0.001 ................................................\n",
      "[CV] .................... C=1, gamma=0.001, score=0.792, total=   0.0s\n",
      "[CV] C=1, gamma=0.005 ................................................\n"
     ]
    },
    {
     "name": "stderr",
     "output_type": "stream",
     "text": [
      "C:\\Users\\joaog\\Anaconda3\\lib\\site-packages\\sklearn\\model_selection\\_split.py:1978: FutureWarning: The default value of cv will change from 3 to 5 in version 0.22. Specify it explicitly to silence this warning.\n",
      "  warnings.warn(CV_WARNING, FutureWarning)\n",
      "[Parallel(n_jobs=1)]: Using backend SequentialBackend with 1 concurrent workers.\n",
      "[Parallel(n_jobs=1)]: Done   1 out of   1 | elapsed:    0.0s remaining:    0.0s\n",
      "[Parallel(n_jobs=1)]: Done   2 out of   2 | elapsed:    0.0s remaining:    0.0s\n"
     ]
    },
    {
     "name": "stdout",
     "output_type": "stream",
     "text": [
      "[CV] .................... C=1, gamma=0.005, score=0.779, total=   0.0s\n",
      "[CV] C=1, gamma=0.005 ................................................\n",
      "[CV] .................... C=1, gamma=0.005, score=0.799, total=   0.0s\n",
      "[CV] C=1, gamma=0.005 ................................................\n",
      "[CV] .................... C=1, gamma=0.005, score=0.792, total=   0.0s\n",
      "[CV] C=5, gamma=0.0001 ...............................................\n",
      "[CV] ................... C=5, gamma=0.0001, score=0.813, total=   0.0s\n",
      "[CV] C=5, gamma=0.0001 ...............................................\n",
      "[CV] ................... C=5, gamma=0.0001, score=0.844, total=   0.0s\n",
      "[CV] C=5, gamma=0.0001 ...............................................\n",
      "[CV] ................... C=5, gamma=0.0001, score=0.824, total=   0.0s\n",
      "[CV] C=5, gamma=0.0005 ...............................................\n",
      "[CV] ................... C=5, gamma=0.0005, score=0.813, total=   0.0s\n",
      "[CV] C=5, gamma=0.0005 ...............................................\n",
      "[CV] ................... C=5, gamma=0.0005, score=0.844, total=   0.0s\n",
      "[CV] C=5, gamma=0.0005 ...............................................\n",
      "[CV] ................... C=5, gamma=0.0005, score=0.824, total=   0.0s\n",
      "[CV] C=5, gamma=0.001 ................................................\n",
      "[CV] .................... C=5, gamma=0.001, score=0.813, total=   0.0s\n",
      "[CV] C=5, gamma=0.001 ................................................\n",
      "[CV] .................... C=5, gamma=0.001, score=0.844, total=   0.0s\n",
      "[CV] C=5, gamma=0.001 ................................................\n",
      "[CV] .................... C=5, gamma=0.001, score=0.824, total=   0.0s\n",
      "[CV] C=5, gamma=0.005 ................................................\n",
      "[CV] .................... C=5, gamma=0.005, score=0.813, total=   0.0s\n",
      "[CV] C=5, gamma=0.005 ................................................\n",
      "[CV] .................... C=5, gamma=0.005, score=0.844, total=   0.0s\n",
      "[CV] C=5, gamma=0.005 ................................................\n",
      "[CV] .................... C=5, gamma=0.005, score=0.824, total=   0.0s\n",
      "[CV] C=10, gamma=0.0001 ..............................................\n",
      "[CV] .................. C=10, gamma=0.0001, score=0.832, total=   0.0s\n",
      "[CV] C=10, gamma=0.0001 ..............................................\n",
      "[CV] .................. C=10, gamma=0.0001, score=0.854, total=   0.0s\n",
      "[CV] C=10, gamma=0.0001 ..............................................\n",
      "[CV] .................. C=10, gamma=0.0001, score=0.836, total=   0.0s\n",
      "[CV] C=10, gamma=0.0005 ..............................................\n",
      "[CV] .................. C=10, gamma=0.0005, score=0.832, total=   0.0s\n",
      "[CV] C=10, gamma=0.0005 ..............................................\n",
      "[CV] .................. C=10, gamma=0.0005, score=0.854, total=   0.0s\n",
      "[CV] C=10, gamma=0.0005 ..............................................\n",
      "[CV] .................. C=10, gamma=0.0005, score=0.836, total=   0.0s\n",
      "[CV] C=10, gamma=0.001 ...............................................\n",
      "[CV] ................... C=10, gamma=0.001, score=0.832, total=   0.0s\n",
      "[CV] C=10, gamma=0.001 ...............................................\n",
      "[CV] ................... C=10, gamma=0.001, score=0.854, total=   0.0s\n",
      "[CV] C=10, gamma=0.001 ...............................................\n",
      "[CV] ................... C=10, gamma=0.001, score=0.836, total=   0.0s\n",
      "[CV] C=10, gamma=0.005 ...............................................\n",
      "[CV] ................... C=10, gamma=0.005, score=0.832, total=   0.0s\n",
      "[CV] C=10, gamma=0.005 ...............................................\n",
      "[CV] ................... C=10, gamma=0.005, score=0.854, total=   0.0s\n",
      "[CV] C=10, gamma=0.005 ...............................................\n",
      "[CV] ................... C=10, gamma=0.005, score=0.836, total=   0.0s\n",
      "[CV] C=50, gamma=0.0001 ..............................................\n",
      "[CV] .................. C=50, gamma=0.0001, score=0.866, total=   0.0s\n",
      "[CV] C=50, gamma=0.0001 ..............................................\n",
      "[CV] .................. C=50, gamma=0.0001, score=0.880, total=   0.0s\n",
      "[CV] C=50, gamma=0.0001 ..............................................\n",
      "[CV] .................. C=50, gamma=0.0001, score=0.864, total=   0.0s\n",
      "[CV] C=50, gamma=0.0005 ..............................................\n",
      "[CV] .................. C=50, gamma=0.0005, score=0.866, total=   0.0s\n",
      "[CV] C=50, gamma=0.0005 ..............................................\n",
      "[CV] .................. C=50, gamma=0.0005, score=0.880, total=   0.0s\n",
      "[CV] C=50, gamma=0.0005 ..............................................\n",
      "[CV] .................. C=50, gamma=0.0005, score=0.864, total=   0.0s\n",
      "[CV] C=50, gamma=0.001 ...............................................\n",
      "[CV] ................... C=50, gamma=0.001, score=0.866, total=   0.0s\n",
      "[CV] C=50, gamma=0.001 ...............................................\n",
      "[CV] ................... C=50, gamma=0.001, score=0.880, total=   0.0s\n",
      "[CV] C=50, gamma=0.001 ...............................................\n",
      "[CV] ................... C=50, gamma=0.001, score=0.864, total=   0.0s\n",
      "[CV] C=50, gamma=0.005 ...............................................\n",
      "[CV] ................... C=50, gamma=0.005, score=0.866, total=   0.0s\n",
      "[CV] C=50, gamma=0.005 ...............................................\n",
      "[CV] ................... C=50, gamma=0.005, score=0.880, total=   0.0s\n",
      "[CV] C=50, gamma=0.005 ...............................................\n",
      "[CV] ................... C=50, gamma=0.005, score=0.864, total=   0.0s\n",
      "[CV] C=100, gamma=0.0001 .............................................\n",
      "[CV] ................. C=100, gamma=0.0001, score=0.870, total=   0.0s\n",
      "[CV] C=100, gamma=0.0001 .............................................\n",
      "[CV] ................. C=100, gamma=0.0001, score=0.882, total=   0.0s\n",
      "[CV] C=100, gamma=0.0001 .............................................\n",
      "[CV] ................. C=100, gamma=0.0001, score=0.873, total=   0.0s\n",
      "[CV] C=100, gamma=0.0005 .............................................\n",
      "[CV] ................. C=100, gamma=0.0005, score=0.870, total=   0.0s\n",
      "[CV] C=100, gamma=0.0005 .............................................\n",
      "[CV] ................. C=100, gamma=0.0005, score=0.882, total=   0.0s\n",
      "[CV] C=100, gamma=0.0005 .............................................\n",
      "[CV] ................. C=100, gamma=0.0005, score=0.873, total=   0.0s\n",
      "[CV] C=100, gamma=0.001 ..............................................\n",
      "[CV] .................. C=100, gamma=0.001, score=0.870, total=   0.0s\n",
      "[CV] C=100, gamma=0.001 ..............................................\n",
      "[CV] .................. C=100, gamma=0.001, score=0.882, total=   0.0s\n",
      "[CV] C=100, gamma=0.001 ..............................................\n",
      "[CV] .................. C=100, gamma=0.001, score=0.873, total=   0.0s\n",
      "[CV] C=100, gamma=0.005 ..............................................\n",
      "[CV] .................. C=100, gamma=0.005, score=0.870, total=   0.0s\n",
      "[CV] C=100, gamma=0.005 ..............................................\n",
      "[CV] .................. C=100, gamma=0.005, score=0.882, total=   0.0s\n",
      "[CV] C=100, gamma=0.005 ..............................................\n",
      "[CV] .................. C=100, gamma=0.005, score=0.873, total=   0.0s\n"
     ]
    },
    {
     "name": "stderr",
     "output_type": "stream",
     "text": [
      "[Parallel(n_jobs=1)]: Done  60 out of  60 | elapsed:    1.2s finished\n"
     ]
    },
    {
     "data": {
      "text/plain": [
       "GridSearchCV(cv='warn', error_score='raise-deprecating',\n",
       "             estimator=SVC(C=1.0, cache_size=200, class_weight=None, coef0=0.0,\n",
       "                           decision_function_shape='ovr', degree=3,\n",
       "                           gamma='auto_deprecated', kernel='linear',\n",
       "                           max_iter=-1, probability=False, random_state=None,\n",
       "                           shrinking=True, tol=0.001, verbose=False),\n",
       "             iid='warn', n_jobs=None,\n",
       "             param_grid={'C': [1, 5, 10, 50, 100],\n",
       "                         'gamma': [0.0001, 0.0005, 0.001, 0.005]},\n",
       "             pre_dispatch='2*n_jobs', refit=True, return_train_score=False,\n",
       "             scoring=None, verbose=3)"
      ]
     },
     "execution_count": 37,
     "metadata": {},
     "output_type": "execute_result"
    }
   ],
   "source": [
    "# Train the model1 with GridSearch\n",
    "grid_top21 = GridSearchCV(model_SVC_top21, param_grid_SVC, verbose=3)\n",
    "grid_top21.fit(X1_train_scaled, y1_train)"
   ]
  },
  {
   "cell_type": "code",
   "execution_count": 38,
   "metadata": {},
   "outputs": [
    {
     "name": "stdout",
     "output_type": "stream",
     "text": [
      "{'C': 100, 'gamma': 0.0001}\n",
      "0.8746422438465942\n"
     ]
    }
   ],
   "source": [
    "print(grid_top21.best_params_)\n",
    "print(grid_top21.best_score_)"
   ]
  },
  {
   "cell_type": "code",
   "execution_count": 39,
   "metadata": {},
   "outputs": [
    {
     "name": "stdout",
     "output_type": "stream",
     "text": [
      "Testing bestSVC_top21 Data Score:: 0.8829138062547673\n"
     ]
    }
   ],
   "source": [
    "bestSVC_model_top21 = SVC(C=100, kernel='linear', gamma=0.0001)\n",
    "#Best SVC model results\n",
    "bestSVC_model_top21.fit(X1_test_scaled, y1_test)\n",
    "print(f\"Testing bestSVC_top21 Data Score:: {bestSVC_model_top21.score(X1_test_scaled, y1_test)}\")"
   ]
  },
  {
   "cell_type": "markdown",
   "metadata": {},
   "source": [
    "### Deep Learning Top21"
   ]
  },
  {
   "cell_type": "code",
   "execution_count": 40,
   "metadata": {},
   "outputs": [],
   "source": [
    "deep_model_top21 = Sequential()\n",
    "deep_model_top21.add(Dense(units=6, activation='relu', input_dim=20))\n",
    "deep_model_top21.add(Dense(units=3, activation='softmax'))"
   ]
  },
  {
   "cell_type": "code",
   "execution_count": 41,
   "metadata": {},
   "outputs": [
    {
     "name": "stdout",
     "output_type": "stream",
     "text": [
      "[[0. 0. 1.]\n",
      " [1. 0. 0.]\n",
      " [0. 0. 1.]\n",
      " ...\n",
      " [0. 0. 1.]\n",
      " [0. 1. 0.]\n",
      " [0. 0. 1.]]\n"
     ]
    }
   ],
   "source": [
    "# One-hot encoding y\n",
    "y1_train_categorical = to_categorical(y1_train)\n",
    "y1_test_categorical = to_categorical(y1_test)\n",
    "print(y_test_categorical)"
   ]
  },
  {
   "cell_type": "code",
   "execution_count": 42,
   "metadata": {},
   "outputs": [
    {
     "name": "stdout",
     "output_type": "stream",
     "text": [
      "Train on 1747 samples\n",
      "Epoch 1/100\n",
      "1747/1747 - 0s - loss: 1.1762 - accuracy: 0.2914\n",
      "Epoch 2/100\n",
      "1747/1747 - 0s - loss: 0.9907 - accuracy: 0.5495\n",
      "Epoch 3/100\n",
      "1747/1747 - 0s - loss: 0.9002 - accuracy: 0.6846\n",
      "Epoch 4/100\n",
      "1747/1747 - 0s - loss: 0.8158 - accuracy: 0.7401\n",
      "Epoch 5/100\n",
      "1747/1747 - 0s - loss: 0.7460 - accuracy: 0.7556\n",
      "Epoch 6/100\n",
      "1747/1747 - 0s - loss: 0.6858 - accuracy: 0.7596\n",
      "Epoch 7/100\n",
      "1747/1747 - 0s - loss: 0.6338 - accuracy: 0.7624\n",
      "Epoch 8/100\n",
      "1747/1747 - 0s - loss: 0.5906 - accuracy: 0.7653\n",
      "Epoch 9/100\n",
      "1747/1747 - 0s - loss: 0.5549 - accuracy: 0.7653\n",
      "Epoch 10/100\n",
      "1747/1747 - 0s - loss: 0.5265 - accuracy: 0.7653\n",
      "Epoch 11/100\n",
      "1747/1747 - 0s - loss: 0.5031 - accuracy: 0.7653\n",
      "Epoch 12/100\n",
      "1747/1747 - 0s - loss: 0.4844 - accuracy: 0.7653\n",
      "Epoch 13/100\n",
      "1747/1747 - 0s - loss: 0.4693 - accuracy: 0.7653\n",
      "Epoch 14/100\n",
      "1747/1747 - 0s - loss: 0.4563 - accuracy: 0.7653\n",
      "Epoch 15/100\n",
      "1747/1747 - 0s - loss: 0.4459 - accuracy: 0.7653\n",
      "Epoch 16/100\n",
      "1747/1747 - 0s - loss: 0.4365 - accuracy: 0.7653\n",
      "Epoch 17/100\n",
      "1747/1747 - 0s - loss: 0.4291 - accuracy: 0.7653\n",
      "Epoch 18/100\n",
      "1747/1747 - 0s - loss: 0.4225 - accuracy: 0.7653\n",
      "Epoch 19/100\n",
      "1747/1747 - 0s - loss: 0.4166 - accuracy: 0.7653\n",
      "Epoch 20/100\n",
      "1747/1747 - 0s - loss: 0.4121 - accuracy: 0.7653\n",
      "Epoch 21/100\n",
      "1747/1747 - 0s - loss: 0.4074 - accuracy: 0.7653\n",
      "Epoch 22/100\n",
      "1747/1747 - 0s - loss: 0.4039 - accuracy: 0.7653\n",
      "Epoch 23/100\n",
      "1747/1747 - 0s - loss: 0.4005 - accuracy: 0.7687\n",
      "Epoch 24/100\n",
      "1747/1747 - 0s - loss: 0.3974 - accuracy: 0.7653\n",
      "Epoch 25/100\n",
      "1747/1747 - 0s - loss: 0.3950 - accuracy: 0.7722\n",
      "Epoch 26/100\n",
      "1747/1747 - 0s - loss: 0.3924 - accuracy: 0.7653\n",
      "Epoch 27/100\n",
      "1747/1747 - 0s - loss: 0.3903 - accuracy: 0.7653\n",
      "Epoch 28/100\n",
      "1747/1747 - 0s - loss: 0.3887 - accuracy: 0.7768\n",
      "Epoch 29/100\n",
      "1747/1747 - 0s - loss: 0.3865 - accuracy: 0.7693\n",
      "Epoch 30/100\n",
      "1747/1747 - 0s - loss: 0.3846 - accuracy: 0.7653\n",
      "Epoch 31/100\n",
      "1747/1747 - 0s - loss: 0.3830 - accuracy: 0.7653\n",
      "Epoch 32/100\n",
      "1747/1747 - 0s - loss: 0.3817 - accuracy: 0.8019\n",
      "Epoch 33/100\n",
      "1747/1747 - 0s - loss: 0.3800 - accuracy: 0.7682\n",
      "Epoch 34/100\n",
      "1747/1747 - 0s - loss: 0.3791 - accuracy: 0.7968\n",
      "Epoch 35/100\n",
      "1747/1747 - 0s - loss: 0.3777 - accuracy: 0.7653\n",
      "Epoch 36/100\n",
      "1747/1747 - 0s - loss: 0.3765 - accuracy: 0.8042\n",
      "Epoch 37/100\n",
      "1747/1747 - 0s - loss: 0.3758 - accuracy: 0.7705\n",
      "Epoch 38/100\n",
      "1747/1747 - 0s - loss: 0.3748 - accuracy: 0.7945\n",
      "Epoch 39/100\n",
      "1747/1747 - 0s - loss: 0.3741 - accuracy: 0.7659\n",
      "Epoch 40/100\n",
      "1747/1747 - 0s - loss: 0.3730 - accuracy: 0.7865\n",
      "Epoch 41/100\n",
      "1747/1747 - 0s - loss: 0.3723 - accuracy: 0.7979\n",
      "Epoch 42/100\n",
      "1747/1747 - 0s - loss: 0.3710 - accuracy: 0.7699\n",
      "Epoch 43/100\n",
      "1747/1747 - 0s - loss: 0.3701 - accuracy: 0.7802\n",
      "Epoch 44/100\n",
      "1747/1747 - 0s - loss: 0.3691 - accuracy: 0.7842\n",
      "Epoch 45/100\n",
      "1747/1747 - 0s - loss: 0.3681 - accuracy: 0.7997\n",
      "Epoch 46/100\n",
      "1747/1747 - 0s - loss: 0.3685 - accuracy: 0.7802\n",
      "Epoch 47/100\n",
      "1747/1747 - 0s - loss: 0.3667 - accuracy: 0.8019\n",
      "Epoch 48/100\n",
      "1747/1747 - 0s - loss: 0.3668 - accuracy: 0.7991\n",
      "Epoch 49/100\n",
      "1747/1747 - 0s - loss: 0.3657 - accuracy: 0.7825\n",
      "Epoch 50/100\n",
      "1747/1747 - 0s - loss: 0.3649 - accuracy: 0.8060\n",
      "Epoch 51/100\n",
      "1747/1747 - 0s - loss: 0.3640 - accuracy: 0.8151\n",
      "Epoch 52/100\n",
      "1747/1747 - 0s - loss: 0.3635 - accuracy: 0.8065\n",
      "Epoch 53/100\n",
      "1747/1747 - 0s - loss: 0.3629 - accuracy: 0.7836\n",
      "Epoch 54/100\n",
      "1747/1747 - 0s - loss: 0.3624 - accuracy: 0.8042\n",
      "Epoch 55/100\n",
      "1747/1747 - 0s - loss: 0.3613 - accuracy: 0.8117\n",
      "Epoch 56/100\n",
      "1747/1747 - 0s - loss: 0.3615 - accuracy: 0.7962\n",
      "Epoch 57/100\n",
      "1747/1747 - 0s - loss: 0.3607 - accuracy: 0.8105\n",
      "Epoch 58/100\n",
      "1747/1747 - 0s - loss: 0.3598 - accuracy: 0.8008\n",
      "Epoch 59/100\n",
      "1747/1747 - 0s - loss: 0.3595 - accuracy: 0.8008\n",
      "Epoch 60/100\n",
      "1747/1747 - 0s - loss: 0.3585 - accuracy: 0.8117\n",
      "Epoch 61/100\n",
      "1747/1747 - 0s - loss: 0.3580 - accuracy: 0.8105\n",
      "Epoch 62/100\n",
      "1747/1747 - 0s - loss: 0.3576 - accuracy: 0.8105\n",
      "Epoch 63/100\n",
      "1747/1747 - 0s - loss: 0.3574 - accuracy: 0.8071\n",
      "Epoch 64/100\n",
      "1747/1747 - 0s - loss: 0.3563 - accuracy: 0.8140\n",
      "Epoch 65/100\n",
      "1747/1747 - 0s - loss: 0.3563 - accuracy: 0.8077\n",
      "Epoch 66/100\n",
      "1747/1747 - 0s - loss: 0.3556 - accuracy: 0.8071\n",
      "Epoch 67/100\n",
      "1747/1747 - 0s - loss: 0.3550 - accuracy: 0.8054\n",
      "Epoch 68/100\n",
      "1747/1747 - 0s - loss: 0.3542 - accuracy: 0.8071\n",
      "Epoch 69/100\n",
      "1747/1747 - 0s - loss: 0.3538 - accuracy: 0.8191\n",
      "Epoch 70/100\n",
      "1747/1747 - 0s - loss: 0.3535 - accuracy: 0.8111\n",
      "Epoch 71/100\n",
      "1747/1747 - 0s - loss: 0.3530 - accuracy: 0.8208\n",
      "Epoch 72/100\n",
      "1747/1747 - 0s - loss: 0.3527 - accuracy: 0.8105\n",
      "Epoch 73/100\n",
      "1747/1747 - 0s - loss: 0.3522 - accuracy: 0.8151\n",
      "Epoch 74/100\n",
      "1747/1747 - 0s - loss: 0.3521 - accuracy: 0.8140\n",
      "Epoch 75/100\n",
      "1747/1747 - 0s - loss: 0.3511 - accuracy: 0.8054\n",
      "Epoch 76/100\n",
      "1747/1747 - 0s - loss: 0.3508 - accuracy: 0.8111\n",
      "Epoch 77/100\n",
      "1747/1747 - 0s - loss: 0.3502 - accuracy: 0.8231\n",
      "Epoch 78/100\n",
      "1747/1747 - 0s - loss: 0.3498 - accuracy: 0.8140\n",
      "Epoch 79/100\n",
      "1747/1747 - 0s - loss: 0.3493 - accuracy: 0.8180\n",
      "Epoch 80/100\n",
      "1747/1747 - 0s - loss: 0.3496 - accuracy: 0.8128\n",
      "Epoch 81/100\n",
      "1747/1747 - 0s - loss: 0.3486 - accuracy: 0.8203\n",
      "Epoch 82/100\n",
      "1747/1747 - 0s - loss: 0.3478 - accuracy: 0.8157\n",
      "Epoch 83/100\n",
      "1747/1747 - 0s - loss: 0.3474 - accuracy: 0.8122\n",
      "Epoch 84/100\n",
      "1747/1747 - 0s - loss: 0.3471 - accuracy: 0.8185\n",
      "Epoch 85/100\n",
      "1747/1747 - 0s - loss: 0.3466 - accuracy: 0.8145\n",
      "Epoch 86/100\n",
      "1747/1747 - 0s - loss: 0.3464 - accuracy: 0.8128\n",
      "Epoch 87/100\n",
      "1747/1747 - 0s - loss: 0.3461 - accuracy: 0.8185\n",
      "Epoch 88/100\n",
      "1747/1747 - 0s - loss: 0.3457 - accuracy: 0.8191\n",
      "Epoch 89/100\n",
      "1747/1747 - 0s - loss: 0.3458 - accuracy: 0.8180\n",
      "Epoch 90/100\n",
      "1747/1747 - 0s - loss: 0.3452 - accuracy: 0.8220\n",
      "Epoch 91/100\n",
      "1747/1747 - 0s - loss: 0.3442 - accuracy: 0.8191\n",
      "Epoch 92/100\n",
      "1747/1747 - 0s - loss: 0.3447 - accuracy: 0.8208\n",
      "Epoch 93/100\n",
      "1747/1747 - 0s - loss: 0.3441 - accuracy: 0.8163\n",
      "Epoch 94/100\n",
      "1747/1747 - 0s - loss: 0.3439 - accuracy: 0.8191\n",
      "Epoch 95/100\n",
      "1747/1747 - 0s - loss: 0.3439 - accuracy: 0.8197\n",
      "Epoch 96/100\n",
      "1747/1747 - 0s - loss: 0.3427 - accuracy: 0.8134\n",
      "Epoch 97/100\n",
      "1747/1747 - 0s - loss: 0.3422 - accuracy: 0.8214\n",
      "Epoch 98/100\n",
      "1747/1747 - 0s - loss: 0.3421 - accuracy: 0.8243\n",
      "Epoch 99/100\n",
      "1747/1747 - 0s - loss: 0.3416 - accuracy: 0.8226\n",
      "Epoch 100/100\n",
      "1747/1747 - 0s - loss: 0.3417 - accuracy: 0.8174\n"
     ]
    },
    {
     "data": {
      "text/plain": [
       "<tensorflow.python.keras.callbacks.History at 0x200040a6c08>"
      ]
     },
     "execution_count": 42,
     "metadata": {},
     "output_type": "execute_result"
    }
   ],
   "source": [
    "# Compile and fit the model\n",
    "deep_model_top21.compile(loss=\"categorical_crossentropy\",\n",
    "              optimizer=\"adam\", metrics=['accuracy'])\n",
    "deep_model_top21.fit(\n",
    "    X1_train_scaled,\n",
    "    y1_train_categorical,\n",
    "    epochs=100,\n",
    "    shuffle=True,\n",
    "    verbose=2\n",
    ")"
   ]
  },
  {
   "cell_type": "code",
   "execution_count": 43,
   "metadata": {},
   "outputs": [
    {
     "name": "stdout",
     "output_type": "stream",
     "text": [
      "Top 21 Normal Neural Network - Loss: 0.36154555974344915, Accuracy: 0.845919132232666\n"
     ]
    }
   ],
   "source": [
    "model_loss, model_accuracy = deep_model_top21.evaluate(\n",
    "    X1_test_scaled, y1_test_categorical, verbose=3)\n",
    "print(\n",
    "    f\"Top 21 Normal Neural Network - Loss: {model_loss}, Accuracy: {model_accuracy}\")"
   ]
  },
  {
   "cell_type": "markdown",
   "metadata": {},
   "source": [
    "### RandomForest Top21"
   ]
  },
  {
   "cell_type": "code",
   "execution_count": 44,
   "metadata": {},
   "outputs": [
    {
     "name": "stdout",
     "output_type": "stream",
     "text": [
      "Training RandonForest Data Score: 0.994848311390956\n",
      "Testing RandonForest Data Score: 0.8535469107551488\n"
     ]
    }
   ],
   "source": [
    "# rf = RandomForestClassifier()\n",
    "rf_top21 = rf.fit(X1_train_scaled, y1_train)\n",
    "print(f\"Training RandonForest Data Score: {rf_top21.score(X1_train_scaled, y1_train)}\")\n",
    "print(f\"Testing RandonForest Data Score: {rf_top21.score(X1_test_scaled, y1_test)}\")"
   ]
  },
  {
   "cell_type": "code",
   "execution_count": 45,
   "metadata": {},
   "outputs": [],
   "source": [
    "grid_rf_top21 = GridSearchCV(rf_top21, param_grid_rf, verbose=3)"
   ]
  },
  {
   "cell_type": "code",
   "execution_count": 46,
   "metadata": {},
   "outputs": [
    {
     "name": "stdout",
     "output_type": "stream",
     "text": [
      "Fitting 3 folds for each of 9 candidates, totalling 27 fits\n",
      "[CV] max_depth=125, n_estimators=250 .................................\n"
     ]
    },
    {
     "name": "stderr",
     "output_type": "stream",
     "text": [
      "C:\\Users\\joaog\\Anaconda3\\lib\\site-packages\\sklearn\\model_selection\\_split.py:1978: FutureWarning: The default value of cv will change from 3 to 5 in version 0.22. Specify it explicitly to silence this warning.\n",
      "  warnings.warn(CV_WARNING, FutureWarning)\n",
      "[Parallel(n_jobs=1)]: Using backend SequentialBackend with 1 concurrent workers.\n"
     ]
    },
    {
     "name": "stdout",
     "output_type": "stream",
     "text": [
      "[CV] ..... max_depth=125, n_estimators=250, score=0.868, total=   0.7s\n",
      "[CV] max_depth=125, n_estimators=250 .................................\n"
     ]
    },
    {
     "name": "stderr",
     "output_type": "stream",
     "text": [
      "[Parallel(n_jobs=1)]: Done   1 out of   1 | elapsed:    0.6s remaining:    0.0s\n"
     ]
    },
    {
     "name": "stdout",
     "output_type": "stream",
     "text": [
      "[CV] ..... max_depth=125, n_estimators=250, score=0.883, total=   0.6s\n",
      "[CV] max_depth=125, n_estimators=250 .................................\n"
     ]
    },
    {
     "name": "stderr",
     "output_type": "stream",
     "text": [
      "[Parallel(n_jobs=1)]: Done   2 out of   2 | elapsed:    1.1s remaining:    0.0s\n"
     ]
    },
    {
     "name": "stdout",
     "output_type": "stream",
     "text": [
      "[CV] ..... max_depth=125, n_estimators=250, score=0.862, total=   0.6s\n",
      "[CV] max_depth=125, n_estimators=300 .................................\n",
      "[CV] ..... max_depth=125, n_estimators=300, score=0.873, total=   0.7s\n",
      "[CV] max_depth=125, n_estimators=300 .................................\n",
      "[CV] ..... max_depth=125, n_estimators=300, score=0.877, total=   0.7s\n",
      "[CV] max_depth=125, n_estimators=300 .................................\n",
      "[CV] ..... max_depth=125, n_estimators=300, score=0.867, total=   0.7s\n",
      "[CV] max_depth=125, n_estimators=350 .................................\n",
      "[CV] ..... max_depth=125, n_estimators=350, score=0.868, total=   0.8s\n",
      "[CV] max_depth=125, n_estimators=350 .................................\n",
      "[CV] ..... max_depth=125, n_estimators=350, score=0.883, total=   0.8s\n",
      "[CV] max_depth=125, n_estimators=350 .................................\n",
      "[CV] ..... max_depth=125, n_estimators=350, score=0.874, total=   0.8s\n",
      "[CV] max_depth=150, n_estimators=250 .................................\n",
      "[CV] ..... max_depth=150, n_estimators=250, score=0.863, total=   0.6s\n",
      "[CV] max_depth=150, n_estimators=250 .................................\n",
      "[CV] ..... max_depth=150, n_estimators=250, score=0.885, total=   0.6s\n",
      "[CV] max_depth=150, n_estimators=250 .................................\n",
      "[CV] ..... max_depth=150, n_estimators=250, score=0.876, total=   0.6s\n",
      "[CV] max_depth=150, n_estimators=300 .................................\n",
      "[CV] ..... max_depth=150, n_estimators=300, score=0.870, total=   0.7s\n",
      "[CV] max_depth=150, n_estimators=300 .................................\n",
      "[CV] ..... max_depth=150, n_estimators=300, score=0.882, total=   0.7s\n",
      "[CV] max_depth=150, n_estimators=300 .................................\n",
      "[CV] ..... max_depth=150, n_estimators=300, score=0.866, total=   0.7s\n",
      "[CV] max_depth=150, n_estimators=350 .................................\n",
      "[CV] ..... max_depth=150, n_estimators=350, score=0.875, total=   0.8s\n",
      "[CV] max_depth=150, n_estimators=350 .................................\n",
      "[CV] ..... max_depth=150, n_estimators=350, score=0.887, total=   0.8s\n",
      "[CV] max_depth=150, n_estimators=350 .................................\n",
      "[CV] ..... max_depth=150, n_estimators=350, score=0.873, total=   0.8s\n",
      "[CV] max_depth=175, n_estimators=250 .................................\n",
      "[CV] ..... max_depth=175, n_estimators=250, score=0.878, total=   0.6s\n",
      "[CV] max_depth=175, n_estimators=250 .................................\n",
      "[CV] ..... max_depth=175, n_estimators=250, score=0.882, total=   0.6s\n",
      "[CV] max_depth=175, n_estimators=250 .................................\n",
      "[CV] ..... max_depth=175, n_estimators=250, score=0.873, total=   0.6s\n",
      "[CV] max_depth=175, n_estimators=300 .................................\n",
      "[CV] ..... max_depth=175, n_estimators=300, score=0.871, total=   0.7s\n",
      "[CV] max_depth=175, n_estimators=300 .................................\n",
      "[CV] ..... max_depth=175, n_estimators=300, score=0.880, total=   0.7s\n",
      "[CV] max_depth=175, n_estimators=300 .................................\n",
      "[CV] ..... max_depth=175, n_estimators=300, score=0.873, total=   0.7s\n",
      "[CV] max_depth=175, n_estimators=350 .................................\n",
      "[CV] ..... max_depth=175, n_estimators=350, score=0.873, total=   0.8s\n",
      "[CV] max_depth=175, n_estimators=350 .................................\n",
      "[CV] ..... max_depth=175, n_estimators=350, score=0.887, total=   0.8s\n",
      "[CV] max_depth=175, n_estimators=350 .................................\n",
      "[CV] ..... max_depth=175, n_estimators=350, score=0.871, total=   0.8s\n"
     ]
    },
    {
     "name": "stderr",
     "output_type": "stream",
     "text": [
      "[Parallel(n_jobs=1)]: Done  27 out of  27 | elapsed:   18.8s finished\n"
     ]
    },
    {
     "data": {
      "text/plain": [
       "GridSearchCV(cv='warn', error_score='raise-deprecating',\n",
       "             estimator=RandomForestClassifier(bootstrap=True, class_weight=None,\n",
       "                                              criterion='gini', max_depth=None,\n",
       "                                              max_features='auto',\n",
       "                                              max_leaf_nodes=None,\n",
       "                                              min_impurity_decrease=0.0,\n",
       "                                              min_impurity_split=None,\n",
       "                                              min_samples_leaf=1,\n",
       "                                              min_samples_split=2,\n",
       "                                              min_weight_fraction_leaf=0.0,\n",
       "                                              n_estimators=10, n_jobs=None,\n",
       "                                              oob_score=False,\n",
       "                                              random_state=None, verbose=0,\n",
       "                                              warm_start=False),\n",
       "             iid='warn', n_jobs=None,\n",
       "             param_grid={'max_depth': [125, 150, 175],\n",
       "                         'n_estimators': [250, 300, 350]},\n",
       "             pre_dispatch='2*n_jobs', refit=True, return_train_score=False,\n",
       "             scoring=None, verbose=3)"
      ]
     },
     "execution_count": 46,
     "metadata": {},
     "output_type": "execute_result"
    }
   ],
   "source": [
    "grid_rf_top21.fit(X1_train_scaled, y1_train)"
   ]
  },
  {
   "cell_type": "code",
   "execution_count": 47,
   "metadata": {},
   "outputs": [
    {
     "name": "stdout",
     "output_type": "stream",
     "text": [
      "{'max_depth': 150, 'n_estimators': 350}\n",
      "0.8780767029192902\n"
     ]
    }
   ],
   "source": [
    "print(grid_rf_top21.best_params_)\n",
    "print(grid_rf_top21.best_score_)"
   ]
  },
  {
   "cell_type": "code",
   "execution_count": 51,
   "metadata": {},
   "outputs": [],
   "source": [
    "best_rf_top21 = RandomForestClassifier(max_depth = 150, n_estimators= 350)"
   ]
  },
  {
   "cell_type": "code",
   "execution_count": 53,
   "metadata": {},
   "outputs": [
    {
     "name": "stdout",
     "output_type": "stream",
     "text": [
      "Training Data best_RandomForest_top21 Score: 1.0\n",
      "Testing Data best_RandomForest_top21 Score: 0.8836765827612509\n"
     ]
    }
   ],
   "source": [
    "best_rf_top21.fit(X1_train_scaled, y1_train)\n",
    "print(f\"Training Data best_RandomForest_top21 Score: {best_rf_top21.score(X1_train_scaled, y1_train)}\")\n",
    "print(f\"Testing Data best_RandomForest_top21 Score: {best_rf_top21.score(X1_test_scaled, y1_test)}\")"
   ]
  },
  {
   "cell_type": "code",
   "execution_count": null,
   "metadata": {},
   "outputs": [],
   "source": []
  },
  {
   "cell_type": "markdown",
   "metadata": {},
   "source": [
    "# Save the Model"
   ]
  },
  {
   "cell_type": "code",
   "execution_count": 54,
   "metadata": {},
   "outputs": [
    {
     "data": {
      "text/plain": [
       "['best_model_top21.h5']"
      ]
     },
     "execution_count": 54,
     "metadata": {},
     "output_type": "execute_result"
    }
   ],
   "source": [
    "# save the best model\n",
    "import joblib\n",
    "filename = 'best_model_top21.h5'\n",
    "joblib.dump(best_rf_top21, filename)"
   ]
  },
  {
   "cell_type": "code",
   "execution_count": null,
   "metadata": {},
   "outputs": [],
   "source": []
  }
 ],
 "metadata": {
  "kernel_info": {
   "name": "dev"
  },
  "kernelspec": {
   "display_name": "Python 3",
   "language": "python",
   "name": "python3"
  },
  "language_info": {
   "codemirror_mode": {
    "name": "ipython",
    "version": 3
   },
   "file_extension": ".py",
   "mimetype": "text/x-python",
   "name": "python",
   "nbconvert_exporter": "python",
   "pygments_lexer": "ipython3",
   "version": "3.7.4"
  },
  "nteract": {
   "version": "0.12.3"
  }
 },
 "nbformat": 4,
 "nbformat_minor": 2
}
